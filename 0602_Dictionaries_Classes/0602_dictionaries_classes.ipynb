{
 "cells": [
  {
   "cell_type": "markdown",
   "id": "7790ada9",
   "metadata": {},
   "source": [
    "[Think Python - Chapter 10 (This is Optional)](https://learning.oreilly.com/library/view/think-python-3rd/9781098155421/ch10.html)"
   ]
  },
  {
   "cell_type": "markdown",
   "id": "ef62d9c7",
   "metadata": {},
   "source": []
  }
 ],
 "metadata": {
  "language_info": {
   "name": "python"
  }
 },
 "nbformat": 4,
 "nbformat_minor": 5
}
