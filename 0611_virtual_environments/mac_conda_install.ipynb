{
 "cells": [
  {
   "cell_type": "markdown",
   "metadata": {},
   "source": [
    "# Installing MiniConda - Mac\n",
    "\n",
    "---"
   ]
  },
  {
   "cell_type": "markdown",
   "metadata": {},
   "source": [
    "## Download\n",
    "\n",
    "Download the windows version of the installer from [this link.](https://docs.anaconda.com/miniconda/)\n",
    "\n",
    "Ensure that you are choosing the proper chipset for your mac. M1 will be for newer macs. Intel for slightly older macs.\n",
    "\n",
    "Ensure that you download the `.pkg` installer.\n",
    "\n",
    "<img src=\"img_mac\\01.png\" width=\"700\"> \n",
    "\n",
    "---"
   ]
  },
  {
   "cell_type": "markdown",
   "metadata": {},
   "source": [
    "## Install\n",
    "\n",
    "Double click the downloaded .pkg file and click through the usual installer prompts. Install for all users.\n",
    "\n",
    "<img src=\"img_mac\\02.JPG\" width=\"500\">\n",
    "\n",
    "---\n"
   ]
  },
  {
   "cell_type": "markdown",
   "metadata": {},
   "source": [
    "## Configure\n",
    "\n",
    "### Open Your Terminal\n",
    "To open a new terminal in VSCode, hold ``Cmd +` ``. You can also access the terminal from the ribbon menu at the top of VSCode - select `Terminal --> New Terminal`.\n",
    "\n",
    "Once you've opened the terminal, you should see something like this at the bottom of your screen (ignore the commands):\n",
    "\n",
    "<img src=\"img_mac\\03.jpg\" width=\"800\"> \n",
    "\n",
    "### Disabling Conda Base Auto-Activation\n",
    "\n",
    "The `base` in parentheses indicates we're currently in that environment. We want to avoid installing additional packages into our base environment. It's best practice to setup a new environment for each project. By default, conda activates the base environment everytime we open our terminal on a mac. We want to disable that behavior.\n",
    "\n",
    "Type the following command and then hit return.\n",
    "\n",
    "```bash\n",
    "conda config --set auto_activate_base false\n",
    "```\n",
    "\n",
    "<img src=\"img_mac\\03.jpg\" width=\"800\"> \n",
    "\n",
    "\n",
    "You will now need to close your current instance of the terminal by clicking the garbage can icon in the upper right hand corner. Note that your terminal will say `bash` instead of `powershell`.\n",
    "\n",
    "<img src=\"img_win\\04.png\" width=\"300\"> \n",
    "\n",
    "<br>\n",
    "\n",
    "### Changing the Default Environment Name\n",
    "\n",
    "By default, virtual environment names in Conda can get LOOOONG. Don't worry if you don't totally understand what I mean, but take my word for it. \n",
    "\n",
    "For now, open a new terminal, and then just copy the following command into your terminal and hit enter:\n",
    "\n",
    "```bash\n",
    "conda config --set env_prompt '({name})'\n",
    "```\n",
    "\n",
    "You won't see any feedback but a new line should appear below the entered command.\n",
    "\n",
    "<img src=\"img_mac\\04.jpg\" width=\"800\">  \n",
    "\n",
    "### Test that it's Working\n",
    "\n",
    "In the terminal, type `conda activate`. You should now see a prefix like `(miniconda3)` indicating that you are in a virtual environment. Type `conda deactivate` to exit the virtual environment.\n",
    "\n",
    "<img src=\"img_mac\\05.jpg\" width=\"800\"> \n",
    "\n",
    "\n",
    "\n",
    "### Restart your Computer\n",
    "Give your computer a quick reboot!\n",
    "<br>\n",
    "<br>\n",
    "\n",
    "***You made it! Conda is now installed and functioning as it should be. Go back to the main document!***\n",
    "\n",
    "---"
   ]
  },
  {
   "cell_type": "markdown",
   "metadata": {},
   "source": []
  }
 ],
 "metadata": {
  "language_info": {
   "name": "python"
  }
 },
 "nbformat": 4,
 "nbformat_minor": 2
}
