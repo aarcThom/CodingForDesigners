{
 "cells": [
  {
   "cell_type": "markdown",
   "metadata": {},
   "source": [
    "# Installing MiniConda - Windows\n",
    "\n",
    "---"
   ]
  },
  {
   "cell_type": "markdown",
   "metadata": {},
   "source": [
    "## Download\n",
    "\n",
    "Download the windows version of the installer from [this link.](https://docs.anaconda.com/miniconda/)\n",
    "\n",
    "<img src=\"img_win\\01.png\" width=\"700\"> \n",
    "\n",
    "---"
   ]
  },
  {
   "cell_type": "markdown",
   "metadata": {},
   "source": [
    "## Install\n",
    "\n",
    "Double click the downloaded .exe file and click through the usual installer prompts. Make sure to select the following options:\n",
    "\n",
    "**Install Locally**\n",
    "\n",
    "<img src=\"img_win\\02.png\" width=\"500\"> \n",
    "\n",
    "**Add to Path / Clear the Package Cache**\n",
    "\n",
    "<img src=\"img_win\\03.png\" width=\"500\"> \n",
    "<br>\n",
    "<br>\n",
    "\n",
    "---\n"
   ]
  },
  {
   "cell_type": "markdown",
   "metadata": {},
   "source": [
    "## Configure\n",
    "\n",
    "### Open Your Terminal\n",
    "To open a new terminal in VSCode, hold `Ctrl + Shift + ~`. You can also access the terminal from the ribbon menu at the top of VSCode - select `Terminal --> New Terminal`.\n",
    "\n",
    "Once you've opened the terminal, you should see something like this at the bottom of your screen:\n",
    "\n",
    "<img src=\"img\\terminal.png\" width=\"800\"> \n",
    "\n",
    "### Initialize Conda in PowerShell \n",
    "\n",
    "In your terminal type\n",
    "```bash\n",
    "conda init powershell\n",
    "```\n",
    "and then hit enter. You will see a stream of changes. Make sure you see the following line before closing the terminal.\n",
    "\n",
    "```\n",
    "==> For changes to take effect, close and re-open your current shell. <==\n",
    "```\n",
    "\n",
    "You will now need to close your current instance of the terminal by clicking the garbage can icon in the upper right hand corner.\n",
    "\n",
    "<img src=\"img_win\\04.png\" width=\"300\"> \n",
    "\n",
    "<br>\n",
    "\n",
    "\n",
    "### Test that it's Working\n",
    "\n",
    "Open a new terminal, and type `conda activate`. You should now see a prefix like `(miniconda3)` indicating that you are in a virtual environment. Type `conda deactivate` to exit the virtual environment.\n",
    "\n",
    "<img src=\"img_win\\05.png\" width=\"600\"> \n",
    "\n",
    "\n",
    "### Changing the Default Environment Name\n",
    "\n",
    "By default, virtual environment names in Conda can get LOOOONG. Don't worry if you don't totally understand what I mean, but take my word for it. \n",
    "\n",
    "For now, just copy the following command into your terminal and hit enter:\n",
    "\n",
    "```bash\n",
    "conda config --set env_prompt '({name})'\n",
    "```\n",
    "\n",
    "You won't see any feedback but a new line should appear below the entered command.\n",
    "\n",
    "<img src=\"img_win\\06.png\" width=\"600\"> \n",
    "\n",
    "\n",
    "### Restart your Computer\n",
    "Give your computer a quick reboot!\n",
    "<br>\n",
    "<br>\n",
    "\n",
    "***You made it! Conda is now installed and functioning as it should be. Go back to the main document!***\n",
    "\n",
    "---"
   ]
  },
  {
   "cell_type": "markdown",
   "metadata": {},
   "source": []
  }
 ],
 "metadata": {
  "language_info": {
   "name": "python"
  }
 },
 "nbformat": 4,
 "nbformat_minor": 2
}
