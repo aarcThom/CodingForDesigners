{
 "cells": [
  {
   "cell_type": "markdown",
   "metadata": {},
   "source": [
    "# Strings, Numbers, Expressions, Variables, Statements, Objects\n",
    "\n",
    "### Assigned Readings:\n",
    "[Think Python - Chapter 1](https://learning.oreilly.com/library/view/think-python-3rd/9781098155421/ch01.html)\n",
    "\n",
    "[Think Python - Chapter 2](https://learning.oreilly.com/library/view/think-python-3rd/9781098155421/ch02.html)\n",
    "\n",
    "The above readings are required for the following lecture. The lecture will recover some of the same ground, but will recontextualize the topics through ***object oriented programming***.\n",
    "\n",
    "---"
   ]
  },
  {
   "cell_type": "markdown",
   "metadata": {},
   "source": [
    "## Objects Everywhere!\n",
    "Every piece of data in Python is an ***object***. Each object has:\n",
    "* A ***Type*** (What kind of object is it?)\n",
    "* A ***Value*** (The words themselves in a string object)\n",
    "* ***Attributes*** (Descriptors of the objects and extra stored values)\n",
    "* ***Methods*** (Sequences of commands the object can act upon itself and other objects)\n",
    "\n",
    "Furthermore, we can act upon an object with:\n",
    "* ***Functions*** (sequences of commands)\n",
    "* ***Operators*** (Symbols used to manipulate or create new objects)\n",
    "\n",
    "<img src=\"img\\object_blob.png\" width=\"800\"> \n",
    "\n",
    "I like to think of objects as dogs. If my dog were a Python object, we could display her as such:\n",
    "\n",
    "<img src=\"img\\dog_object.png\" width=\"800\"> \n",
    "\n",
    "---\n",
    "\n",
    "## Object Types\n",
    "\n",
    "Every object in Python, has a ***type***.\n",
    "\n",
    "For example, ```'hello word'``` is an object with type *string.*\n",
    "\n",
    "```2``` and ```3.45678``` are objects of the type *integer* and *float*, respectively.\n",
    "\n",
    "See [this link](https://www.cs.toronto.edu/~david/course-notes/csc110-111/A-python-builtins/02-types.html) for a sneak peak of the other types we will be dealing with in this course.\n",
    "\n",
    "The object type defines the stuff an object can do, and the stuff we can do to the object. That is what methods it has, and what functions and operators we can use on it.\n",
    "\n",
    "---"
   ]
  },
  {
   "cell_type": "markdown",
   "metadata": {},
   "source": [
    "## Object Creation and Object Type\n",
    "\n",
    "Different types of objects are created with different ***syntax***. \n",
    "\n",
    "For example, a ***integer*** type object would be created by typing:\n",
    "```12```\n",
    "\n",
    "A ***float*** type object would be created by typing:\n",
    "```12.0```\n",
    "\n",
    "And a ***string*** type object would be created by typing:\n",
    "```'12'```\n",
    "\n",
    "\n",
    "A string can be created with either *single quotes* or *double quotes*. Either is acceptable but be consistent. \n",
    "I use single quotes because I'm lazy!\n",
    "\n"
   ]
  },
  {
   "cell_type": "code",
   "execution_count": 11,
   "metadata": {},
   "outputs": [
    {
     "data": {
      "text/plain": [
       "'hello world'"
      ]
     },
     "execution_count": 11,
     "metadata": {},
     "output_type": "execute_result"
    }
   ],
   "source": [
    "#this is a string\n",
    "'hello world'"
   ]
  },
  {
   "cell_type": "code",
   "execution_count": 12,
   "metadata": {},
   "outputs": [
    {
     "data": {
      "text/plain": [
       "'hello world'"
      ]
     },
     "execution_count": 12,
     "metadata": {},
     "output_type": "execute_result"
    }
   ],
   "source": [
    "#this is also a string\n",
    "\"hello world\""
   ]
  },
  {
   "cell_type": "code",
   "execution_count": 29,
   "metadata": {},
   "outputs": [
    {
     "data": {
      "text/plain": [
       "str"
      ]
     },
     "execution_count": 29,
     "metadata": {},
     "output_type": "execute_result"
    }
   ],
   "source": [
    "# we can test that the above is indeed an object of type string by using the function type()\n",
    "type('hello world')"
   ]
  },
  {
   "cell_type": "markdown",
   "metadata": {},
   "source": [
    "---\n",
    "\n",
    "## Object Value\n",
    "Each string object contains the actual words / characters / symbols that we'd expect.\n",
    "\n",
    "We call the contained characters, the string's ***value***.\n",
    "\n",
    "More generally, an object's value is the thing in itself. For example, a list object's value is the list, a float objects value is the actual number.\n",
    "\n",
    "We can print our text on the *terminal* (screen) like so:"
   ]
  },
  {
   "cell_type": "code",
   "execution_count": 4,
   "metadata": {},
   "outputs": [
    {
     "name": "stdout",
     "output_type": "stream",
     "text": [
      "hello world\n"
     ]
    }
   ],
   "source": [
    "# we are printing the value contained in the string `hello world`. Notice that the quotes don't show up!\n",
    "print('hello world')"
   ]
  },
  {
   "cell_type": "markdown",
   "metadata": {},
   "source": [
    "---\n",
    "# Using Operators on Objects\n",
    "\n",
    "An objects type determines what ***operators*** can act on it. An operator is a symbol denotes an action that can be performed on an object.\n",
    "\n",
    "Here are a few of the operators we can use on a string object. Note that when we use the following operators on strings, we are creating a new string object. We always create new objects - we can't change existing strings or numbers. This is called ***immutability***, or we can say a string type object is ***immutable***.\n",
    "\n",
    "<img src=\"img\\blob_family.png\" width=\"800\"> "
   ]
  },
  {
   "cell_type": "markdown",
   "metadata": {},
   "source": [
    "***Addition Operator*** ```+``` to create a new string whose values is the joined values of the input strings."
   ]
  },
  {
   "cell_type": "code",
   "execution_count": 10,
   "metadata": {},
   "outputs": [
    {
     "data": {
      "text/plain": [
       "'hello world'"
      ]
     },
     "execution_count": 10,
     "metadata": {},
     "output_type": "execute_result"
    }
   ],
   "source": [
    "#concatenate two strings with the addtion operator\n",
    "'hello ' + 'world'"
   ]
  },
  {
   "cell_type": "markdown",
   "metadata": {},
   "source": [
    "***Multiplication Operator*** ```*``` to repeat strings"
   ]
  },
  {
   "cell_type": "code",
   "execution_count": 13,
   "metadata": {},
   "outputs": [
    {
     "data": {
      "text/plain": [
       "'hello hello hello hello world'"
      ]
     },
     "execution_count": 13,
     "metadata": {},
     "output_type": "execute_result"
    }
   ],
   "source": [
    "#repeat a string with the multiplication operator\n",
    "'hello ' * 4 + 'world'"
   ]
  },
  {
   "cell_type": "markdown",
   "metadata": {},
   "source": [
    "We can also use the ***slice operator*** ```[]```, to access a character at a certain location (index) in a string.\n",
    "\n",
    "***Indices in Python ALWAYS START AT ZERO***"
   ]
  },
  {
   "cell_type": "code",
   "execution_count": 14,
   "metadata": {},
   "outputs": [
    {
     "data": {
      "text/plain": [
       "'h'"
      ]
     },
     "execution_count": 14,
     "metadata": {},
     "output_type": "execute_result"
    }
   ],
   "source": [
    "#grab the first character in a string\n",
    "'hello world'[0]"
   ]
  },
  {
   "cell_type": "code",
   "execution_count": 15,
   "metadata": {},
   "outputs": [
    {
     "data": {
      "text/plain": [
       "'l'"
      ]
     },
     "execution_count": 15,
     "metadata": {},
     "output_type": "execute_result"
    }
   ],
   "source": [
    "#grab the third character in a string\n",
    "'hello world'[2]"
   ]
  },
  {
   "cell_type": "code",
   "execution_count": 18,
   "metadata": {},
   "outputs": [
    {
     "data": {
      "text/plain": [
       "'d'"
      ]
     },
     "execution_count": 18,
     "metadata": {},
     "output_type": "execute_result"
    }
   ],
   "source": [
    "#grab the last character in a string - we'll return to why this works when we look at lists\n",
    "'hello world'[-1]"
   ]
  },
  {
   "cell_type": "markdown",
   "metadata": {},
   "source": [
    "We can use the ***slice range operator*** ```[:]``` to access a range of characters in a string."
   ]
  },
  {
   "cell_type": "code",
   "execution_count": 24,
   "metadata": {},
   "outputs": [
    {
     "data": {
      "text/plain": [
       "'hell'"
      ]
     },
     "execution_count": 24,
     "metadata": {},
     "output_type": "execute_result"
    }
   ],
   "source": [
    "#grabbing the first 4 characters - slice goes from start index to the index BEFORE the second number\n",
    "'hello world'[0:4]"
   ]
  },
  {
   "cell_type": "markdown",
   "metadata": {},
   "source": [
    "Not all operators are supported for a given type of object. For example, we can use the divsion operator ```/``` for number types, but string objects do not implement the ```/``` operator."
   ]
  },
  {
   "cell_type": "code",
   "execution_count": 25,
   "metadata": {},
   "outputs": [
    {
     "ename": "TypeError",
     "evalue": "unsupported operand type(s) for /: 'str' and 'str'",
     "output_type": "error",
     "traceback": [
      "\u001b[1;31m---------------------------------------------------------------------------\u001b[0m",
      "\u001b[1;31mTypeError\u001b[0m                                 Traceback (most recent call last)",
      "Cell \u001b[1;32mIn[25], line 1\u001b[0m\n\u001b[1;32m----> 1\u001b[0m \u001b[38;5;124;43m'\u001b[39;49m\u001b[38;5;124;43mhello\u001b[39;49m\u001b[38;5;124;43m'\u001b[39;49m\u001b[43m \u001b[49m\u001b[38;5;241;43m/\u001b[39;49m\u001b[43m \u001b[49m\u001b[38;5;124;43m'\u001b[39;49m\u001b[38;5;124;43mworld\u001b[39;49m\u001b[38;5;124;43m'\u001b[39;49m\n",
      "\u001b[1;31mTypeError\u001b[0m: unsupported operand type(s) for /: 'str' and 'str'"
     ]
    }
   ],
   "source": [
    "'hello' / 'world'"
   ]
  },
  {
   "cell_type": "markdown",
   "metadata": {},
   "source": [
    "---\n",
    "# Using Functions On Objects\n",
    "A ***function*** is a named sequence of event that we can perform on an object. We use parentheses to pass our object in as a ***parameter*** to the function. The function will return a result (on success).\n",
    "\n",
    "Python has a lot of [built in functions](https://www.w3schools.com/python/python_ref_functions.asp), but many of them don't work on strings.\n",
    "Out of the built in functions, we'll really only use these 3 on strings:\n",
    "* ```print()``` - prints to the screen\n",
    "* ```type()``` - returns the object type\n",
    "* ```len()``` - returns the length of the object.\n",
    "\n",
    "For example, consider the following code:"
   ]
  },
  {
   "cell_type": "code",
   "execution_count": 27,
   "metadata": {},
   "outputs": [
    {
     "data": {
      "text/plain": [
       "11"
      ]
     },
     "execution_count": 27,
     "metadata": {},
     "output_type": "execute_result"
    }
   ],
   "source": [
    "#he function len() takes our string as a parameter and returns an integer with a value equalling the length of the string\n",
    "len('hello world')"
   ]
  },
  {
   "cell_type": "markdown",
   "metadata": {},
   "source": [
    "We can diagram the function ```len()``` like so:\n",
    "\n",
    "<img src=\"img\\len.png\" width=\"800\"> \n",
    "\n",
    "Notice that the output is also an object! However, it is a integer type object with a value of 11. Another thing to mention is that the original object wasn't morphed into the new object. It still exists if we want to use it! As mentioned before when looking at operators, this is because strings are ***immutable***.\n",
    "\n",
    "We can confirm the type change with another function we've already used, ```type()```."
   ]
  },
  {
   "cell_type": "code",
   "execution_count": 28,
   "metadata": {},
   "outputs": [
    {
     "data": {
      "text/plain": [
       "int"
      ]
     },
     "execution_count": 28,
     "metadata": {},
     "output_type": "execute_result"
    }
   ],
   "source": [
    "type(len('hello world'))"
   ]
  },
  {
   "cell_type": "markdown",
   "metadata": {},
   "source": [
    "---\n",
    "\n",
    "## Using and Object's Methods\n",
    "We just looked at ***functions***. Functions are a named sequence of commands applied to an object. Methods can take parameters as inputs just like functions, but you will often find that methods don't need parameters.\n",
    "\n",
    "***Methods*** are functions contained within an object. You can access a method using ***dot notation*** -```object.method(arg1, arg2)```."
   ]
  },
  {
   "cell_type": "code",
   "execution_count": 1,
   "metadata": {},
   "outputs": [
    {
     "name": "stdout",
     "output_type": "stream",
     "text": [
      "HELLO WORLD\n"
     ]
    }
   ],
   "source": [
    "#this is an example of a string object method, upper(), that returns a new string object which is all upper case\n",
    "#this method doesn't take any arguments (parameters)\n",
    "print('hello world'.upper())"
   ]
  },
  {
   "cell_type": "code",
   "execution_count": 2,
   "metadata": {},
   "outputs": [
    {
     "name": "stdout",
     "output_type": "stream",
     "text": [
      "goodbye world\n"
     ]
    }
   ],
   "source": [
    "#this is a string method replace() which takes two parameters (arguments)\n",
    "print('hello world'.replace('hello', 'goodbye'))"
   ]
  },
  {
   "cell_type": "markdown",
   "metadata": {},
   "source": [
    "You can find a list of Python's built-in string methods [here](https://www.w3schools.com/python/python_ref_string.asp)."
   ]
  },
  {
   "cell_type": "markdown",
   "metadata": {},
   "source": [
    "### A note on attributes\n",
    "\n",
    "We have left out one final part of the object - attributes. We will return to this topic later when we are dealing with objects that actually have attributes that are useful to look at!\n",
    "\n",
    "---"
   ]
  },
  {
   "cell_type": "markdown",
   "metadata": {},
   "source": [
    "## Looking at Objects through Numbers\n",
    "For this section, we will quickly demonstrate the key components of objects by looking at a number type object. Try working through these methods, operators, and built-in functions during your lecture review."
   ]
  },
  {
   "cell_type": "markdown",
   "metadata": {},
   "source": [
    "### Type"
   ]
  },
  {
   "cell_type": "code",
   "execution_count": 3,
   "metadata": {},
   "outputs": [
    {
     "data": {
      "text/plain": [
       "int"
      ]
     },
     "execution_count": 3,
     "metadata": {},
     "output_type": "execute_result"
    }
   ],
   "source": [
    "#TYPE - integers\n",
    "type(12)"
   ]
  },
  {
   "cell_type": "code",
   "execution_count": 4,
   "metadata": {},
   "outputs": [
    {
     "data": {
      "text/plain": [
       "float"
      ]
     },
     "execution_count": 4,
     "metadata": {},
     "output_type": "execute_result"
    }
   ],
   "source": [
    "#TYPE - floats\n",
    "type(12.0)"
   ]
  },
  {
   "cell_type": "code",
   "execution_count": 5,
   "metadata": {},
   "outputs": [
    {
     "data": {
      "text/plain": [
       "str"
      ]
     },
     "execution_count": 5,
     "metadata": {},
     "output_type": "execute_result"
    }
   ],
   "source": [
    "#TYPE - string (that contains the number)\n",
    "type('12')"
   ]
  },
  {
   "cell_type": "markdown",
   "metadata": {},
   "source": [
    "### Value"
   ]
  },
  {
   "cell_type": "code",
   "execution_count": 6,
   "metadata": {},
   "outputs": [
    {
     "data": {
      "text/plain": [
       "12"
      ]
     },
     "execution_count": 6,
     "metadata": {},
     "output_type": "execute_result"
    }
   ],
   "source": [
    "# value - a number object's value is intuitively, its value!\n",
    "12"
   ]
  },
  {
   "cell_type": "markdown",
   "metadata": {},
   "source": [
    "### Using built in functions on a number object"
   ]
  },
  {
   "cell_type": "code",
   "execution_count": 8,
   "metadata": {},
   "outputs": [
    {
     "name": "stdout",
     "output_type": "stream",
     "text": [
      "12\n"
     ]
    }
   ],
   "source": [
    "print(12)"
   ]
  },
  {
   "cell_type": "code",
   "execution_count": 10,
   "metadata": {},
   "outputs": [
    {
     "ename": "TypeError",
     "evalue": "object of type 'int' has no len()",
     "output_type": "error",
     "traceback": [
      "\u001b[1;31m---------------------------------------------------------------------------\u001b[0m",
      "\u001b[1;31mTypeError\u001b[0m                                 Traceback (most recent call last)",
      "Cell \u001b[1;32mIn[10], line 2\u001b[0m\n\u001b[0;32m      1\u001b[0m \u001b[38;5;66;03m#you'll see that number objects DO NOT work with the built-in len() function\u001b[39;00m\n\u001b[1;32m----> 2\u001b[0m \u001b[38;5;28;43mlen\u001b[39;49m\u001b[43m(\u001b[49m\u001b[38;5;241;43m12\u001b[39;49m\u001b[43m)\u001b[49m\n",
      "\u001b[1;31mTypeError\u001b[0m: object of type 'int' has no len()"
     ]
    }
   ],
   "source": [
    "#you'll see that number objects DO NOT work with the built-in len() function\n",
    "len(12)"
   ]
  },
  {
   "cell_type": "code",
   "execution_count": 13,
   "metadata": {},
   "outputs": [
    {
     "name": "stdout",
     "output_type": "stream",
     "text": [
      "12 12.0 12.0 12\n"
     ]
    }
   ],
   "source": [
    "# you can also cast (change the type of a number using the int and float methods)\n",
    "print(12, float(12), 12.0, int(12.0))"
   ]
  },
  {
   "cell_type": "markdown",
   "metadata": {},
   "source": [
    "### Using the functions included in the math library\n",
    "We will look at libraries in depth when we jump into Rhino, but for now, just know that a library is a pre-coded collection of functions and objects.\n",
    "\n",
    "For example, if you want to work with randomness, you would import the library random. You would then be able to utilize all the objects and functions contained in the library.\n",
    "\n",
    "To use a library (that is installed) you use the syntax: ```import library_name```\n",
    "\n",
    "We can take a look at the functions included in the ```math``` library. To use a function in the ```math``` library, we use ***dot notation*** much like using a method.\n",
    "\n",
    "For exmaple, to round down we can use the function ```floor()``` we type ```math.floor(parameter_goes_here)```."
   ]
  },
  {
   "cell_type": "code",
   "execution_count": 11,
   "metadata": {},
   "outputs": [
    {
     "data": {
      "text/plain": [
       "12"
      ]
     },
     "execution_count": 11,
     "metadata": {},
     "output_type": "execute_result"
    }
   ],
   "source": [
    "import math\n",
    "\n",
    "math.floor(12.56)"
   ]
  },
  {
   "cell_type": "markdown",
   "metadata": {},
   "source": [
    "### Number methods\n",
    "Numbers (floats and integers) don't implement methods. "
   ]
  },
  {
   "cell_type": "markdown",
   "metadata": {},
   "source": [
    "---\n",
    "\n",
    "# Variables\n",
    "\n",
    "When programming, you will need to keep track of all the data that you are creating! We can assign a specific value (like a number or a string) to a variable in order to:\n",
    "\n",
    "* Give the value a human-readable and descriptive name\n",
    "* Refer to the value / variable in multiple places in our program\n",
    "* Store the value for later use\n",
    "* Reassign another value to a given variable when we need the data to update\n",
    "\n",
    "We use the syntax ```variable_name = object```. The variable name always goes on the left-hand side of the equals symbol, and the value always goes on the right.\n"
   ]
  },
  {
   "cell_type": "code",
   "execution_count": 15,
   "metadata": {},
   "outputs": [
    {
     "name": "stdout",
     "output_type": "stream",
     "text": [
      "hello iggy\n"
     ]
    }
   ],
   "source": [
    "#initialize a variable AND assign an object to it\n",
    "dog_name = 'iggy'\n",
    "\n",
    "#initialize a variable AND assign an object to it\n",
    "greeting = 'hello '\n",
    "\n",
    "#we can now interact with the variables just like we would with the objects themselves\n",
    "print(greeting + dog_name)"
   ]
  },
  {
   "cell_type": "markdown",
   "metadata": {},
   "source": [
    "Variables are labels applied to objects. For numbers and strings, which are ***immutable***, this means that whenever we change a variables 'value' we are actually just changing what object said variable is pointing to at a particular time. Further if we assign another variable (that's referring to a number or string) we are actually copying the referent."
   ]
  },
  {
   "cell_type": "code",
   "execution_count": 19,
   "metadata": {},
   "outputs": [
    {
     "name": "stdout",
     "output_type": "stream",
     "text": [
      " <class 'str'>\n"
     ]
    }
   ],
   "source": [
    "#initialize an empty string variable\n",
    "dog_name = str()\n",
    "print(dog_name, type(dog_name)) # the value won't print - it's empty, but we still can print the object type"
   ]
  },
  {
   "cell_type": "code",
   "execution_count": 22,
   "metadata": {},
   "outputs": [
    {
     "name": "stdout",
     "output_type": "stream",
     "text": [
      "iggy <class 'str'>\n"
     ]
    }
   ],
   "source": [
    "#assigning a string to the variable\n",
    "dog_name = 'iggy'\n",
    "print(dog_name, type(dog_name))"
   ]
  },
  {
   "cell_type": "code",
   "execution_count": 23,
   "metadata": {},
   "outputs": [
    {
     "name": "stdout",
     "output_type": "stream",
     "text": [
      "benny <class 'str'>\n"
     ]
    }
   ],
   "source": [
    "#assigning a new string to the variable\n",
    "dog_name = 'benny'\n",
    "print(dog_name, type(dog_name))"
   ]
  },
  {
   "cell_type": "code",
   "execution_count": 24,
   "metadata": {},
   "outputs": [
    {
     "name": "stdout",
     "output_type": "stream",
     "text": [
      "thomas <class 'str'>\n"
     ]
    }
   ],
   "source": [
    "# seeing what happens when we assign a variable to a variable - hint: nothing! we aren't assigning the variable, but rather a copy of the object the second var was referring to\n",
    "human_name = 'thomas'\n",
    "\n",
    "dog_name = human_name\n",
    "\n",
    "human_name = 'iggy'\n",
    "\n",
    "print(dog_name, type(dog_name))\n"
   ]
  },
  {
   "cell_type": "markdown",
   "metadata": {},
   "source": [
    "Finally, variables in Python don't care about what *type* of object they are referring to. Because of this property, Python is considered a ***dynamically typed*** language.\n",
    "\n",
    "This is in contrast to a ***statically typed*** language in which you need to declare the variable type before assigning an object or value to said variable. For instance in C# you would write this to create a variable that holds a string.\n",
    "\n",
    "```string dog_name = \"iggy\";```\n"
   ]
  },
  {
   "cell_type": "code",
   "execution_count": 25,
   "metadata": {},
   "outputs": [
    {
     "data": {
      "text/plain": [
       "int"
      ]
     },
     "execution_count": 25,
     "metadata": {},
     "output_type": "execute_result"
    }
   ],
   "source": [
    "#in Python, we don't need to specify the variable type. We can even change variable types on the fly (dynamically)\n",
    "dog_name = 'iggy'\n",
    "\n",
    "dog_name = 12345\n",
    "\n",
    "type(dog_name)"
   ]
  },
  {
   "cell_type": "markdown",
   "metadata": {},
   "source": [
    "A few notes on naming variables:\n",
    "* variables should always be lowercase\n",
    "* variables should always be descriptive without being overly verbose\n",
    "* if a variable name has more than one word, separate words with an underscore. For example, “new_house” or “entry_room_area”.  This is called snake case.\n",
    "* if you look at examples of programming online, you might find that different styles of variable names are used. For example, camel case would have the two examples above written as “newHouse” and “entryRoomArea”. We choose snake case simply because it conforms to Python's style guide. Consistency is important. Please stick to snake case in this course.\n",
    "* you cannot being a variable name with a number. “1_room” will not work. “room_1” will.\n"
   ]
  }
 ],
 "metadata": {
  "kernelspec": {
   "display_name": "Python 3",
   "language": "python",
   "name": "python3"
  },
  "language_info": {
   "codemirror_mode": {
    "name": "ipython",
    "version": 3
   },
   "file_extension": ".py",
   "mimetype": "text/x-python",
   "name": "python",
   "nbconvert_exporter": "python",
   "pygments_lexer": "ipython3",
   "version": "3.12.3"
  }
 },
 "nbformat": 4,
 "nbformat_minor": 2
}
