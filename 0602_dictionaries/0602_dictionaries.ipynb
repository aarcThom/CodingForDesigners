{
 "cells": [
  {
   "cell_type": "markdown",
   "id": "7790ada9",
   "metadata": {},
   "source": [
    "# Dictionaries and Importing JSON Data\n",
    "### Assigned Readings:\n",
    "\n",
    "[Think Python - Chapter 10](https://learning.oreilly.com/library/view/think-python-3rd/9781098155421/ch10.html) - Dictionaries\n",
    "\n",
    "[Real Python - Working with JSON Data in Python](https://realpython.com/python-json/) - Working with JSON\n",
    "\n",
    "The above readings are required for the following lecture. The lecture will recover a lot of the same ground but may not cover all material contained in the chapter.\n",
    "\n",
    "---\n",
    "\n",
    "\n"
   ]
  },
  {
   "cell_type": "markdown",
   "id": "ef62d9c7",
   "metadata": {},
   "source": [
    "***Dictionaries*** are another extremely useful way to organize data within Python. Unlike *lists*, ***dictionaries*** store data using ***key / value pairings***. In other words, a dictionary in Python works like a dictionary - an item is retrieved by its key, rather than its position.\n",
    "\n",
    "To create a dictionary, we use curly braces ```{}```. We can either initialize an empty dictionary, or create a dictionary containing key/value pairings, using the syntax ```{key:value, key:value,...}```."
   ]
  },
  {
   "cell_type": "code",
   "execution_count": 16,
   "id": "8e739e50",
   "metadata": {},
   "outputs": [
    {
     "name": "stdout",
     "output_type": "stream",
     "text": [
      "<class 'dict'>\n"
     ]
    }
   ],
   "source": [
    "# to create an empty dictionary\n",
    "empty_dict = {}\n",
    "\n",
    "# creating a dictionary where architect names are the KEYS and nationalities are the VALUES.\n",
    "arch_dict = {'le corbusier':'swiss-french', 'zaha hadid':'iraqi-british', 'arthur erickson':'canadian', 'patrica patkau':'canadian'}\n",
    "\n",
    "print(type(arch_dict))"
   ]
  },
  {
   "cell_type": "markdown",
   "id": "54467c95",
   "metadata": {},
   "source": [
    "### Key Features:\n",
    "* **Accessed by Key**: Unlike lists, we access an item using its key. A key must be *immutable and unique* - ie. a unique string or number.\n",
    "* **Unordered Collection**: Dictionaries should be considered, unordered. Technically, dictionary key / value pairings are arranged in the order they were inserted, but there is no way to append items to the 'middle of the dictionary.' Access by key is where a dictionary performs best!\n",
    "* **Dynamic Size**:  Python dictionaries can grow and shrink in size as needed. You can add or remove items anytime.\n",
    "* **Diverse Elements**: A single dictionary can hold different types of elements. It is common to have a dictionary where one key refers to an integer value, another key refers to a string, and yet another key refers to a list of elements.\n",
    "* **Mutable**: You can change the contents of a dictionary after it has been created. This means you can update, delete, or insert values and / or keys.\n",
    "\n",
    "---\n",
    "\n",
    "### Accessing Items in a Dictionary\n",
    "\n",
    "Since a dictionary is un-ordered, we can't don't use indices (eg. ```[0]```) or slice operators (eg. ```[2::]```), but access a value based on its key using the syntax ```dictionary_name[key]```.\n",
    "\n",
    "For example, we can return the nationality of a given architect from the ```arch_dict``` dictionary like so:\n"
   ]
  },
  {
   "cell_type": "code",
   "execution_count": 17,
   "id": "14b4d671",
   "metadata": {},
   "outputs": [
    {
     "name": "stdout",
     "output_type": "stream",
     "text": [
      "swiss-french\n"
     ]
    }
   ],
   "source": [
    "# what nationality is le corbusier?\n",
    "corb_nationality = arch_dict['le corbusier']\n",
    "\n",
    "print(corb_nationality)"
   ]
  },
  {
   "cell_type": "markdown",
   "id": "07e59b0e",
   "metadata": {},
   "source": [
    "### Dictionary Access through Iteration ###\n",
    "\n",
    "We can iterate through a dictionary's keys in the same way we iterate through lists."
   ]
  },
  {
   "cell_type": "code",
   "execution_count": 18,
   "id": "09ddcfed",
   "metadata": {},
   "outputs": [
    {
     "name": "stdout",
     "output_type": "stream",
     "text": [
      "le corbusier\n",
      "zaha hadid\n",
      "arthur erickson\n",
      "patrica patkau\n"
     ]
    }
   ],
   "source": [
    "# key is the temporary variable used to store the current key\n",
    "for key in arch_dict:\n",
    "    print(key)"
   ]
  },
  {
   "cell_type": "markdown",
   "id": "d16527ef",
   "metadata": {},
   "source": [
    "From this point, we can figure out how to retrieve both the keys and values through iteration."
   ]
  },
  {
   "cell_type": "code",
   "execution_count": 19,
   "id": "4c4ab17f",
   "metadata": {},
   "outputs": [
    {
     "name": "stdout",
     "output_type": "stream",
     "text": [
      "le corbusier is a swiss-french architect.\n",
      "zaha hadid is a iraqi-british architect.\n",
      "arthur erickson is a canadian architect.\n",
      "patrica patkau is a canadian architect.\n"
     ]
    }
   ],
   "source": [
    "# retrieve both the keys and values\n",
    "for key in arch_dict:\n",
    "    value = arch_dict[key]\n",
    "    print(f'{key} is a {value} architect.')"
   ]
  },
  {
   "cell_type": "markdown",
   "id": "17771b7f",
   "metadata": {},
   "source": [
    "We can also figure out how to return all keys that have a specific value. For example, if we wanted to return all canadian architects from our dictionary:"
   ]
  },
  {
   "cell_type": "code",
   "execution_count": 24,
   "id": "d0ca5e31",
   "metadata": {},
   "outputs": [
    {
     "name": "stdout",
     "output_type": "stream",
     "text": [
      "['arthur erickson', 'patrica patkau']\n"
     ]
    }
   ],
   "source": [
    "# create a list to hold all canadian architects\n",
    "cad_architects = []\n",
    "\n",
    "# iterate through the dictionary\n",
    "for key in arch_dict:\n",
    "    if arch_dict[key] == 'canadian':\n",
    "        cad_architects.append(key)\n",
    "\n",
    "print(cad_architects)"
   ]
  },
  {
   "cell_type": "markdown",
   "id": "218d92c8",
   "metadata": {},
   "source": [
    "### Dictionary Access Methods and Functions ###\n",
    "Dictionaries are, of course, objects and contain [useful methods](https://www.w3schools.com/python/python_ref_dictionary.asp) to help us access and modify their contents.\n",
    "\n",
    "We can use the method ```keys()``` to return a list of all keys in a dictionary, and the method ```values()``` to return a list of all values in the dictionary."
   ]
  },
  {
   "cell_type": "code",
   "execution_count": 20,
   "id": "693fae61",
   "metadata": {},
   "outputs": [
    {
     "name": "stdout",
     "output_type": "stream",
     "text": [
      "dict_keys(['le corbusier', 'zaha hadid', 'arthur erickson', 'patrica patkau'])\n",
      "dict_values(['swiss-french', 'iraqi-british', 'canadian', 'canadian'])\n"
     ]
    }
   ],
   "source": [
    "# return all keys as a list\n",
    "print(arch_dict.keys())\n",
    "\n",
    "# return all values in a list\n",
    "print(arch_dict.values())"
   ]
  },
  {
   "cell_type": "markdown",
   "id": "96130e46",
   "metadata": {},
   "source": [
    "We can also use the method ```items()``` to retrieve the key / value pairs as a list of tuples."
   ]
  },
  {
   "cell_type": "code",
   "execution_count": 23,
   "id": "1cae3774",
   "metadata": {},
   "outputs": [
    {
     "name": "stdout",
     "output_type": "stream",
     "text": [
      "dict_items([('le corbusier', 'swiss-french'), ('zaha hadid', 'iraqi-british'), ('arthur erickson', 'canadian'), ('patrica patkau', 'canadian')])\n"
     ]
    }
   ],
   "source": [
    "# return all the key / value pairs\n",
    "print(arch_dict.items())"
   ]
  },
  {
   "cell_type": "markdown",
   "id": "c725a6a9",
   "metadata": {},
   "source": [
    "Finally, we can use the ```len()``` function just as we do with lists to retrive the number of key / value pairs within a dictionary."
   ]
  },
  {
   "cell_type": "code",
   "execution_count": 22,
   "id": "7e7ccf7b",
   "metadata": {},
   "outputs": [
    {
     "name": "stdout",
     "output_type": "stream",
     "text": [
      "The dictionary contains 4 key / value pairs!\n"
     ]
    }
   ],
   "source": [
    "arch_len = len(arch_dict)\n",
    "print(f'The dictionary contains {arch_len} key / value pairs!')"
   ]
  },
  {
   "cell_type": "markdown",
   "id": "242ca688",
   "metadata": {},
   "source": [
    "### The ```in``` Operator ###\n",
    "\n",
    "We have encountered *out of range exceptions* when dealing with lists. This error occurs when we try to access an item at a specific index outside the bounds of the list."
   ]
  },
  {
   "cell_type": "code",
   "execution_count": 15,
   "id": "7c5ef919",
   "metadata": {},
   "outputs": [
    {
     "ename": "IndexError",
     "evalue": "list index out of range",
     "output_type": "error",
     "traceback": [
      "\u001b[31m---------------------------------------------------------------------------\u001b[39m",
      "\u001b[31mIndexError\u001b[39m                                Traceback (most recent call last)",
      "\u001b[36mCell\u001b[39m\u001b[36m \u001b[39m\u001b[32mIn[15]\u001b[39m\u001b[32m, line 5\u001b[39m\n\u001b[32m      2\u001b[39m fruit_list = [\u001b[33m'\u001b[39m\u001b[33mapple\u001b[39m\u001b[33m'\u001b[39m, \u001b[33m'\u001b[39m\u001b[33mbanana\u001b[39m\u001b[33m'\u001b[39m, \u001b[33m'\u001b[39m\u001b[33mmango\u001b[39m\u001b[33m'\u001b[39m]\n\u001b[32m      4\u001b[39m \u001b[38;5;66;03m# try to access the item at index 3 (aka. the 4th item)\u001b[39;00m\n\u001b[32m----> \u001b[39m\u001b[32m5\u001b[39m \u001b[38;5;28mprint\u001b[39m(\u001b[43mfruit_list\u001b[49m\u001b[43m[\u001b[49m\u001b[32;43m3\u001b[39;49m\u001b[43m]\u001b[49m)\n",
      "\u001b[31mIndexError\u001b[39m: list index out of range"
     ]
    }
   ],
   "source": [
    "# create a list with a length of 3\n",
    "fruit_list = ['apple', 'banana', 'mango']\n",
    "\n",
    "# try to access the item at index 3 (aka. the 4th item)\n",
    "print(fruit_list[3])"
   ]
  },
  {
   "cell_type": "markdown",
   "id": "4308d752",
   "metadata": {},
   "source": [
    "A similar error can occur with dictionaries if we try accessing a value at a key that doesn't exist.\n"
   ]
  },
  {
   "cell_type": "code",
   "execution_count": 25,
   "id": "4acc4f35",
   "metadata": {},
   "outputs": [
    {
     "ename": "KeyError",
     "evalue": "'carlo scapa'",
     "output_type": "error",
     "traceback": [
      "\u001b[31m---------------------------------------------------------------------------\u001b[39m",
      "\u001b[31mKeyError\u001b[39m                                  Traceback (most recent call last)",
      "\u001b[36mCell\u001b[39m\u001b[36m \u001b[39m\u001b[32mIn[25]\u001b[39m\u001b[32m, line 1\u001b[39m\n\u001b[32m----> \u001b[39m\u001b[32m1\u001b[39m \u001b[38;5;28mprint\u001b[39m(\u001b[43march_dict\u001b[49m\u001b[43m[\u001b[49m\u001b[33;43m'\u001b[39;49m\u001b[33;43mcarlo scapa\u001b[39;49m\u001b[33;43m'\u001b[39;49m\u001b[43m]\u001b[49m)\n",
      "\u001b[31mKeyError\u001b[39m: 'carlo scapa'"
     ]
    }
   ],
   "source": [
    "print(arch_dict['carlo scapa'])"
   ]
  },
  {
   "cell_type": "markdown",
   "id": "d8599261",
   "metadata": {},
   "source": [
    "We can get around this by using the ```in``` operator to test whether a dictionary contains a key or not."
   ]
  },
  {
   "cell_type": "code",
   "execution_count": 28,
   "id": "73b4e2f5",
   "metadata": {},
   "outputs": [
    {
     "name": "stdout",
     "output_type": "stream",
     "text": [
      "I don't know where carlo scarpa is from!\n"
     ]
    }
   ],
   "source": [
    "# the string name that we want to test for dictionary inclusion\n",
    "test_name = 'carlo scarpa'\n",
    "\n",
    "if test_name in arch_dict:\n",
    "    print(arch_dict[test_name])\n",
    "else:\n",
    "    print(f\"I don't know where {test_name} is from!\")"
   ]
  },
  {
   "cell_type": "markdown",
   "id": "8f9b38fc",
   "metadata": {},
   "source": [
    "---\n",
    "\n",
    "### Dictionaries are Dynamically Sized - Adding and Removing Items ###"
   ]
  },
  {
   "cell_type": "markdown",
   "id": "39f21546",
   "metadata": {},
   "source": [
    "We can add items to a dictionary using a square bracket syntax similar to how we access items by keys."
   ]
  },
  {
   "cell_type": "code",
   "execution_count": 29,
   "id": "40a2b5db",
   "metadata": {},
   "outputs": [
    {
     "name": "stdout",
     "output_type": "stream",
     "text": [
      "{'le corbusier': 'swiss-french', 'zaha hadid': 'iraqi-british', 'arthur erickson': 'canadian', 'patrica patkau': 'canadian', 'carlo scarpa': 'italian'}\n"
     ]
    }
   ],
   "source": [
    "# we can add a key value pair to the dictionary using square brackets\n",
    "arch_dict['carlo scarpa'] = 'italian'\n",
    "print(arch_dict)"
   ]
  },
  {
   "cell_type": "markdown",
   "id": "a670b31d",
   "metadata": {},
   "source": [
    "We can also update values in the dictionary. We use the same notation for an existing key-value pair."
   ]
  },
  {
   "cell_type": "code",
   "execution_count": 30,
   "id": "30b70174",
   "metadata": {},
   "outputs": [
    {
     "name": "stdout",
     "output_type": "stream",
     "text": [
      "{'le corbusier': 'modern and international', 'zaha hadid': 'iraqi-british', 'arthur erickson': 'canadian', 'patrica patkau': 'canadian', 'carlo scarpa': 'italian'}\n"
     ]
    }
   ],
   "source": [
    "# updating le corbusier in the dictionary\n",
    "arch_dict['le corbusier'] = 'modern and international'\n",
    "print(arch_dict)"
   ]
  },
  {
   "cell_type": "markdown",
   "id": "c270dbfe",
   "metadata": {},
   "source": [
    "We might also find ourselves in a situation where we want to add key/values to the dictionary, but want to ensure we aren't overiding existing values. To do so, we can use the ```setdefault()``` method.\n",
    "\n",
    "This method using the syntax ```dictionary.setdefault(key, value)```, and will not add anything if the key already exists, but will add the provided key value pair if the key isn't present.\n",
    "\n",
    "For example, we might want to add a list of architects to our dictionary, and might not know their nationalities, but want to retain any known nationalities."
   ]
  },
  {
   "cell_type": "code",
   "execution_count": 31,
   "id": "6b1be87a",
   "metadata": {},
   "outputs": [
    {
     "name": "stdout",
     "output_type": "stream",
     "text": [
      "{'le corbusier': 'modern and international', 'zaha hadid': 'iraqi-british', 'arthur erickson': 'canadian', 'patrica patkau': 'canadian', 'carlo scarpa': 'italian', 'tadao ando': 'unknown nationality', 'jeanne gang': 'unknown nationality', 'thom maine': 'unknown nationality'}\n"
     ]
    }
   ],
   "source": [
    "# creating a list of architects to add to our dictionary\n",
    "architects_to_add = ['tadao ando', 'jeanne gang', 'thom maine', 'zaha hadid', 'arthur erickson']\n",
    "\n",
    "# adding the new architects to the dictionary\n",
    "for architect in architects_to_add:\n",
    "    arch_dict.setdefault(architect, 'unknown nationality')\n",
    "\n",
    "# checking to see that known values were not overridden\n",
    "print(arch_dict)"
   ]
  },
  {
   "cell_type": "markdown",
   "id": "c07991f5",
   "metadata": {},
   "source": [
    "We can remove a key value pair from a dictionary in a few ways."
   ]
  },
  {
   "cell_type": "code",
   "execution_count": null,
   "id": "a5667a64",
   "metadata": {},
   "outputs": [
    {
     "name": "stdout",
     "output_type": "stream",
     "text": [
      "False\n"
     ]
    }
   ],
   "source": [
    "# remove a pair using the pop method - provide the key\n",
    "arch_dict.pop('carlo scarpa')\n",
    "\n",
    "print('carlo scarpa' in arch_dict)"
   ]
  },
  {
   "cell_type": "code",
   "execution_count": 35,
   "id": "270b7cd5",
   "metadata": {},
   "outputs": [
    {
     "name": "stdout",
     "output_type": "stream",
     "text": [
      "{'le corbusier': 'modern and international', 'zaha hadid': 'iraqi-british', 'tadao ando': 'unknown nationality', 'jeanne gang': 'unknown nationality', 'thom maine': 'unknown nationality'}\n"
     ]
    }
   ],
   "source": [
    "# to delete by value, we need a few extra steps\n",
    "\n",
    "# create a list of keys to delete\n",
    "del_keys = []\n",
    "for key in arch_dict:\n",
    "    if arch_dict[key] == 'canadian':\n",
    "        del_keys.append(key)\n",
    "\n",
    "#iterate through the list (not the dictionary) and use the keys to delete the pairs\n",
    "for del_key in del_keys:\n",
    "    arch_dict.pop(del_key)\n",
    "\n",
    "# canadian architecture is under represented :(\n",
    "print(arch_dict)\n"
   ]
  },
  {
   "cell_type": "markdown",
   "id": "d00c72b9",
   "metadata": {},
   "source": [
    "---\n",
    "\n",
    "### A Dictionary can have Diverse Elements ###\n",
    "\n",
    "Like a list, a dictionary can contain different types of data. However, remember that the keys must be immutable - ie. strings or numbers. The values can be almost anything. For instance we could create a dictionary with lists:"
   ]
  },
  {
   "cell_type": "code",
   "execution_count": 39,
   "id": "6f3062a9",
   "metadata": {},
   "outputs": [
    {
     "name": "stdout",
     "output_type": "stream",
     "text": [
      "The class average of des450 is 92.8\n",
      "The class average of arch577 is 94.0\n"
     ]
    }
   ],
   "source": [
    "# you guys are so smart!\n",
    "class_grades = {'des450':[89, 90, 99, 92, 94], 'arch577':[95, 99, 100, 89, 93, 88]}\n",
    "\n",
    "# we could then take the average of each class\n",
    "for section in class_grades:\n",
    "    section_grades = class_grades[section]\n",
    "    section_avg = sum(section_grades) / len(section_grades)\n",
    "\n",
    "    print(f'The class average of {section} is {section_avg}')"
   ]
  },
  {
   "cell_type": "markdown",
   "id": "f6b7ad91",
   "metadata": {},
   "source": [
    "---\n",
    "\n",
    "### Dictionaries are Mutable ###\n",
    "\n",
    "Refer back to the lists lecture notes for an explainer on mutability and side effects. Dictionaries are also mutable, and as such, can also trip up new programmers! \n",
    "\n",
    "To avoid side effects and make a copy of a dictionary use the method ```copy()```."
   ]
  },
  {
   "cell_type": "code",
   "execution_count": 41,
   "id": "0b7553e1",
   "metadata": {},
   "outputs": [
    {
     "name": "stdout",
     "output_type": "stream",
     "text": [
      "{'le corbusier': 'HELLO WORLD', 'zaha hadid': 'iraqi-british', 'tadao ando': 'unknown nationality', 'jeanne gang': 'unknown nationality', 'thom maine': 'unknown nationality'}\n"
     ]
    }
   ],
   "source": [
    "# an example of what you shouldn't do - both variables now point to the same object\n",
    "side_fx_dict = arch_dict\n",
    "\n",
    "side_fx_dict['le corbusier'] = 'HELLO WORLD'\n",
    "\n",
    "print(arch_dict)"
   ]
  },
  {
   "cell_type": "code",
   "execution_count": 42,
   "id": "3f6e87ce",
   "metadata": {},
   "outputs": [
    {
     "name": "stdout",
     "output_type": "stream",
     "text": [
      "{'le corbusier': 'HELLO WORLD', 'zaha hadid': 'iraqi-british', 'tadao ando': 'unknown nationality', 'jeanne gang': 'unknown nationality', 'thom maine': 'unknown nationality'}\n",
      "{'le corbusier': 'swiss-french', 'zaha hadid': 'iraqi-british', 'tadao ando': 'unknown nationality', 'jeanne gang': 'unknown nationality', 'thom maine': 'unknown nationality'}\n"
     ]
    }
   ],
   "source": [
    "# instead use copy!\n",
    "arch_dict_copy = arch_dict.copy()\n",
    "\n",
    "arch_dict_copy['le corbusier'] = 'swiss-french'\n",
    "\n",
    "print(arch_dict)\n",
    "print(arch_dict_copy)"
   ]
  },
  {
   "cell_type": "markdown",
   "id": "e1c20ae9",
   "metadata": {},
   "source": [
    "---\n",
    "### Using JSON ###"
   ]
  },
  {
   "cell_type": "markdown",
   "id": "cb0cc0d9",
   "metadata": {},
   "source": []
  }
 ],
 "metadata": {
  "kernelspec": {
   "display_name": "Python 3",
   "language": "python",
   "name": "python3"
  },
  "language_info": {
   "codemirror_mode": {
    "name": "ipython",
    "version": 3
   },
   "file_extension": ".py",
   "mimetype": "text/x-python",
   "name": "python",
   "nbconvert_exporter": "python",
   "pygments_lexer": "ipython3",
   "version": "3.13.3"
  }
 },
 "nbformat": 4,
 "nbformat_minor": 5
}
