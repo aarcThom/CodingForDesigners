{
 "cells": [
  {
   "cell_type": "markdown",
   "metadata": {},
   "source": [
    "# Flow Control\n",
    "\n",
    "### Assigned Readings:\n",
    "[Think Python - Chapter 5 (Don't worry about recursion)](https://learning.oreilly.com/library/view/think-python-3rd/9781098155421/ch05.html)\n",
    "\n",
    "\n",
    "The above readings are required for the following lecture. The lecture will recover some of the same ground, but will also introduce [exceptions](https://realpython.com/python-exceptions/) as another way of guiding the flow of your code. We will look at these topics by programming a **magical number guessing game!** In the process, we will also look at *debugging* in the process.\n",
    "\n",
    "\n",
    "![alt text](img/anyone-having-connection-issues.png)\n",
    "\n",
    "---"
   ]
  },
  {
   "cell_type": "markdown",
   "metadata": {},
   "source": [
    "## The Number Guessing Game\n",
    "\n",
    "This exercise is a pretty classic first program. We want to code a program that will try to guess a number we choose within a given range. We can describe the steps the program will take as such:\n",
    "\n",
    "1. The program prompts the user to think of a number between 1 and 100 (inclusive).\n",
    "2. The program defines a range, `num_range` of allowable guesses. If this is the first time the program runs, `num_range` = {1 < x < 100}.\n",
    "3. The program guesses the a number `guess` by choosing a number exactly in the middle of the range.\n",
    "    * for example, a range {1 < x < 100} yields a guess of 50\n",
    "4. The program asks the user if it guessed the correct number. If so, **the program ends** with a message, if not, it proceeds to step 5.\n",
    "5. The program asks if the user's number is lower or higher than its guess. If lower, `num_range` is updated to {`min(num_range)` < x < `guess`}. If higher, `num_range` is updated to {`guess` < x < `max(num_range)`}.\n",
    "6. Go back to step 2.\n"
   ]
  },
  {
   "cell_type": "markdown",
   "metadata": {},
   "source": [
    "### Step 1. The Prompt\n",
    "This one is pretty simple, we can use `print()` to display a prompt."
   ]
  },
  {
   "cell_type": "code",
   "execution_count": 1,
   "metadata": {},
   "outputs": [
    {
     "name": "stdout",
     "output_type": "stream",
     "text": [
      "I am a wizard who can read your mind! Guess an integer between 1 and 100 (inclusive), and I will divine your number!\n"
     ]
    }
   ],
   "source": [
    "print(\"I am a wizard who can read your mind! Guess an integer between 1 and 100 (inclusive), and I will divine your number!\")"
   ]
  },
  {
   "cell_type": "markdown",
   "metadata": {},
   "source": [
    "### Step 2. Defining the Range\n",
    "We want to define a range consisting of two variables, `range_min` and `range_max`. For the first iteration of our program, we will set these variables to 1 and 100 respectively."
   ]
  },
  {
   "cell_type": "code",
   "execution_count": 2,
   "metadata": {},
   "outputs": [],
   "source": [
    "range_min = 1\n",
    "range_max = 100"
   ]
  },
  {
   "cell_type": "markdown",
   "metadata": {},
   "source": [
    "### Step 3. Making a guess!\n",
    "We will 'guess' the number in the middle of the range by:\n",
    "* Subtracting  `range_min` from `range_max`\n",
    "* Dividing the result by two with the integer division or *floor division* operator: //\n",
    "* Adding that result to `range_min` to get the final guess\n",
    "\n"
   ]
  },
  {
   "cell_type": "code",
   "execution_count": 3,
   "metadata": {},
   "outputs": [
    {
     "data": {
      "text/plain": [
       "50"
      ]
     },
     "execution_count": 3,
     "metadata": {},
     "output_type": "execute_result"
    }
   ],
   "source": [
    "# creating the guess in the middle of the range {range_min < X < range_max}\n",
    "guess = (range_max - range_min) // 2 + range_min\n",
    "guess"
   ]
  },
  {
   "cell_type": "markdown",
   "metadata": {},
   "source": [
    "### Steps  4. User Input\n",
    "We can now have our program give its guess to the user. We will do this with the built-in `input()` function. We will also quickly realize that whenever we are dealing with human interaction, our program will generate bugs needed to be fixed. We will dive more into *exceptions* later in the course, but for now we are simply going to end the program whenever a user enters someting that they shouldn't/\n",
    "\n",
    "![alt text](img/end_user.gif)"
   ]
  },
  {
   "cell_type": "markdown",
   "metadata": {},
   "source": [
    "#### A Quick detour:  F-strings\n",
    "[F-strings](https://www.geeksforgeeks.org/formatted-string-literals-f-strings-python/) or *formatted string literals* are a technique used to create strings that can include variables. They are extremely useful, and we will use them throughout the course.\n",
    "\n",
    "Let's say you have a message, 'hello person' but you want to replace 'person' with the actual name of a person. You could store that name as a variable, let's say `actual_name` and use an f-string to create the message 'hello `actual_name`'. This means the message will change as the variable is updated. The syntax you use is:\n",
    "\n",
    "```f'string {variable}'```\n",
    "\n",
    "where anything contained within the quotation marks but not in curly braces is a regular static part of a string, and any variable is contained within curly braces. You can include any number of variables within an f-string. Variables that aren't string type, will be automatically converted to strings (if possible)."
   ]
  },
  {
   "cell_type": "code",
   "execution_count": 16,
   "metadata": {},
   "outputs": [
    {
     "name": "stdout",
     "output_type": "stream",
     "text": [
      "hello Frank\n"
     ]
    }
   ],
   "source": [
    "actual_name = 'Frank'\n",
    "\n",
    "message = f'hello {actual_name}'\n",
    "\n",
    "print(message)"
   ]
  },
  {
   "cell_type": "markdown",
   "metadata": {},
   "source": [
    "Ok, let's use an f-string for our game."
   ]
  },
  {
   "cell_type": "code",
   "execution_count": 17,
   "metadata": {},
   "outputs": [],
   "source": [
    "# Generating the guess message - We will use f-strings\n",
    "guess_message = f\"Using my powers, I have intuited that your number is {guess}! Is that correct? (Type 'y' for yes, or 'n' for no, and hit enter.)\"\n",
    "\n",
    "#Creating the user input pop-up and storing the answer\n",
    "correct_guess = input(guess_message)"
   ]
  },
  {
   "cell_type": "markdown",
   "metadata": {},
   "source": [
    "You should now see a popup input box at the top of vsCode that looks like this:\n",
    "\n",
    "![alt text](img/pop_up.png)\n",
    "\n",
    "We will now look at *flow control*. We will use *logical operators* to determine the flow of our program. Also note, that we will be using comments as placeholders to tackle each part of the program in bite-size steps."
   ]
  },
  {
   "cell_type": "code",
   "execution_count": 20,
   "metadata": {},
   "outputs": [
    {
     "name": "stdout",
     "output_type": "stream",
     "text": [
      "I knew it! I am the greatest wizard of all time!\n"
     ]
    }
   ],
   "source": [
    "# we will now use the equality operator == to determine the next step\n",
    "if correct_guess.lower() == 'y': # we can use the .lower() method to accept both upper case and lower case responses\n",
    "    print(\"I knew it! I am the greatest wizard of all time!\")\n",
    "\n",
    "    # todo - END THE PROGRAM\n",
    "\n",
    "elif correct_guess.lower() != 'n':\n",
    "    print(\"errrr... let me clean my crystal ball. Is your number lower or higher than my guess?\") # replace with - INSERT LOWER / HIGHER INPUT\n",
    "\n",
    "else:\n",
    "    print(\"Despite my mental powers, I have no idea what you mean. Try following my instructions next time!\")\n",
    "\n",
    "    # todo  - END THE PROGRAM\n"
   ]
  },
  {
   "cell_type": "markdown",
   "metadata": {},
   "source": [
    "### Step 5. Updating the Range\n",
    "Assuming the program didn't stop or restart in step 4, we need to update our range to narrow down future guesses. We will ask the user if their number is lower or higher than the current guess. We will store a result as a *boolean* - a True or False - that will determin the next actions the program will follow."
   ]
  },
  {
   "cell_type": "code",
   "execution_count": 27,
   "metadata": {},
   "outputs": [],
   "source": [
    "# Generating the higher - lower message\n",
    "hi_low_message = \"Is your number higher or lower than my guess? Use 'h' for higher and 'l' for lower.\"\n",
    "\n",
    "hi_low_result = input(hi_low_message)"
   ]
  },
  {
   "cell_type": "markdown",
   "metadata": {},
   "source": [
    "Our next steps might seem familiar! Note that in a future lecture, we will see how we can reuse portions of code with functions."
   ]
  },
  {
   "cell_type": "code",
   "execution_count": 28,
   "metadata": {},
   "outputs": [
    {
     "data": {
      "text/plain": [
       "False"
      ]
     },
     "execution_count": 28,
     "metadata": {},
     "output_type": "execute_result"
    }
   ],
   "source": [
    "# we are going to store the result of this question as a boolean\n",
    "# Range goes higher = True, Range goes lower = False\n",
    "range_higher = False \n",
    "\n",
    "if hi_low_result == 'h':\n",
    "    range_higher = True\n",
    "\n",
    "elif hi_low_result != 'l': #note that if hi_low_message == 'l' we don't need to do anything!\n",
    "    print(\"I have no idea what you're blabbering on about! Let's start again.\")\n",
    "\n",
    "    # todo  - END THE PROGRAM\n",
    "\n",
    "\n",
    "# adding this to double check our code\n",
    "range_higher"
   ]
  },
  {
   "cell_type": "markdown",
   "metadata": {},
   "source": [
    "We can now update the range. Note here that we don't need to use a conditional statement like:\n",
    "```\n",
    "if range_higher == True:\n",
    "    # do something\n",
    "```\n",
    "because, if `range_higher` were `True`, that would essentialy be saying:\n",
    "\n",
    "```\n",
    "if True == True:\n",
    "    # do something\n",
    "```\n",
    "\n",
    "which of course, will also compute to `True`! When we are considering a variable that is a *boolean* we can simply use the variable as the flow control. In other words we could type:\n",
    "```\n",
    "if range_higher:\n",
    "    # do something\n",
    "```"
   ]
  },
  {
   "cell_type": "code",
   "execution_count": 31,
   "metadata": {},
   "outputs": [
    {
     "name": "stdout",
     "output_type": "stream",
     "text": [
      "range_min = 1, range_max = 50\n"
     ]
    }
   ],
   "source": [
    "# remember the variables that define our range are:\n",
    "#range_min = 1\n",
    "#range_max = 100\n",
    "\n",
    "#let's update the variables\n",
    "if range_higher:\n",
    "    range_min = guess \n",
    "else:\n",
    "    range_max = guess\n",
    "\n",
    "\n",
    "print(f'range_min = {range_min}, range_max = {range_max}') # checking our code"
   ]
  },
  {
   "cell_type": "markdown",
   "metadata": {},
   "source": [
    "### Step 6. Restarting the code!\n",
    "We will really dive into loops when we tackle lists, but for today, we will look at a loop type that *you shouldn't use very often*. The **while loop** is used to loop code until a condition is met. Often they are used for user-input. Often they can create infinite loops that will crash your program!\n",
    "\n",
    "First, let's compile the first 4 steps of our code into one cell. We will then *refactor step 4* to make our logic flow a bit more smoothly. Once the we let the wizard know if their guess was correct we trigger the following logic:\n",
    "\n",
    "* if correct -> end program\n",
    "* if incorrect -> continue with program\n",
    "* if undecipherable input -> restart program\n",
    "\n",
    "It would actually make more sense to have this flow:\n",
    "\n",
    "* if correct -> end program\n",
    "* if indecipherable -> restart\n",
    "\n",
    "If the wizard's guess is incorrect, then the program can just continue. We don't actually have to do anything!"
   ]
  },
  {
   "cell_type": "code",
   "execution_count": 36,
   "metadata": {},
   "outputs": [
    {
     "name": "stdout",
     "output_type": "stream",
     "text": [
      "I am a wizard who can read your mind! Guess an integer between 1 and 100 (inclusive), and I will divine your number!\n"
     ]
    }
   ],
   "source": [
    "# Step 1. Doesn't loop\n",
    "print(\"I am a wizard who can read your mind! Guess an integer between 1 and 100 (inclusive), and I will divine your number!\")\n",
    "\n",
    "# Start of loop ---------------------\n",
    "\n",
    "# Step 2. Defining the range\n",
    "range_min = 1\n",
    "range_max = 100\n",
    "\n",
    "# Step 3. creating the guess in the middle of the range {range_min < X < range_max}\n",
    "guess = (range_max - range_min) // 2 + range_min\n",
    "\n",
    "# Step 4. User input to determine if the guess was correct. The outcome determines the flow of our program.\n",
    "guess_message = f\"Using my powers, I have intuited that your number is {guess}! Is that correct? (Type 'y' for yes, or 'n' for no, and hit enter.)\"\n",
    "\n",
    "correct_guess = input(guess_message)    # Creating the user input pop-up and storing the answer\n",
    "\n",
    "if correct_guess.lower() == 'y': # we can use the .lower() method to accept both upper case and lower case responses\n",
    "    print(\"I knew it! I am the greatest wizard of all time!\")\n",
    "\n",
    "    # todo - END THE PROGRAM\n",
    "\n",
    "elif correct_guess.lower() != 'n': # note that we swapped for != 'n'.\n",
    "    \"Despite my mental powers, I have no idea what you mean. Try following my instructions next time!\"\n",
    "\n",
    "    # todo - END THE PROGRAM"
   ]
  },
  {
   "cell_type": "markdown",
   "metadata": {},
   "source": [
    "Now that we've refactored our code so that step 5 isn't stuffed in between lines in step 4, we can simply copy it in and make a few changes to bring back the wizards message."
   ]
  },
  {
   "cell_type": "code",
   "execution_count": 37,
   "metadata": {},
   "outputs": [
    {
     "name": "stdout",
     "output_type": "stream",
     "text": [
      "I am a wizard who can read your mind! Guess an integer between 1 and 100 (inclusive), and I will divine your number!\n"
     ]
    }
   ],
   "source": [
    "# Step 1. Doesn't loop\n",
    "print(\"I am a wizard who can read your mind! Guess an integer between 1 and 100 (inclusive), and I will divine your number!\")\n",
    "\n",
    "\n",
    "# Step 2. Defining the range for the first time\n",
    "range_min = 1\n",
    "range_max = 100\n",
    "\n",
    "# Start of loop ---------------------\n",
    "\n",
    "# Step 3. creating the guess in the middle of the range {range_min < X < range_max}\n",
    "guess = (range_max - range_min) // 2 + range_min\n",
    "\n",
    "# Step 4. User input to determine if the guess was correct. The outcome determines the flow of our program.\n",
    "guess_message = f\"Using my powers, I have intuited that your number is {guess}! Is that correct? (Type 'y' for yes, or 'n' for no, and hit enter.)\"\n",
    "correct_guess = input(guess_message)\n",
    "\n",
    "if correct_guess.lower() == 'y': # we can use the .lower() method to accept both upper case and lower case responses\n",
    "    print(\"I knew it! I am the greatest wizard of all time!\")\n",
    "\n",
    "    # todo - END THE PROGRAM\n",
    "\n",
    "elif correct_guess.lower() != 'n': # note that we swapped for != 'n'.\n",
    "    \"Despite my mental powers, I have no idea what you mean. Try following my instructions next time!\"\n",
    "\n",
    "    # todo - END THE PROGRAM\n",
    "\n",
    "# Step 5. Updating the range\n",
    "hi_low_message = \"Is your number higher or lower than my guess? Use 'h' for higher and 'l' for lower.\"\n",
    "hi_low_result = input(hi_low_message)\n",
    "\n",
    "range_higher = False # Range goes higher = True, Range goes lower = False\n",
    "if hi_low_result == 'h':\n",
    "    range_higher = True\n",
    "\n",
    "elif hi_low_result != 'l': #note that if hi_low_message == 'l' we don't need to do anything!\n",
    "    print(\"I have no idea what you're blabbering on about!\")\n",
    "\n",
    "    # todo - END THE PROGRAM\n",
    "\n",
    "#let's update the variables\n",
    "if range_higher:\n",
    "    range_min = guess \n",
    "else:\n",
    "    range_max = guess"
   ]
  },
  {
   "cell_type": "markdown",
   "metadata": {},
   "source": [
    "Ok, for the final step, let's incorporate the *while loop*. A *while loop* will keep running, until a certain condition is met or the we use the *break* keyword. In this case we will just call *break* to end our loop. Let's set up the loop. Note: Save your work!"
   ]
  },
  {
   "cell_type": "code",
   "execution_count": 41,
   "metadata": {},
   "outputs": [
    {
     "name": "stdout",
     "output_type": "stream",
     "text": [
      "I am a wizard who can read your mind! Guess an integer between 1 and 100 (inclusive), and I will divine your number!\n",
      "I knew it! I am the greatest wizard of all time!\n"
     ]
    }
   ],
   "source": [
    "# Step 1. Doesn't loop\n",
    "print(\"I am a wizard who can read your mind! Guess an integer between 1 and 100 (inclusive), and I will divine your number!\")\n",
    "\n",
    "# Step 2. Defining the range for the first time\n",
    "range_min = 1\n",
    "range_max = 100\n",
    "\n",
    "# Start of loop ---------------------\n",
    "while True:\n",
    "\n",
    "    # Step 3. creating the guess in the middle of the range {range_min < X < range_max}\n",
    "    guess = (range_max - range_min) // 2 + range_min\n",
    "\n",
    "    # Step 4. User input to determine if the guess was correct. The outcome determines the flow of our program.\n",
    "    guess_message = f\"Using my powers, I have intuited that your number is {guess}! Is that correct? (Type 'y' for yes, or 'n' for no, and hit enter.)\"\n",
    "    correct_guess = input(guess_message)\n",
    "\n",
    "    if correct_guess.lower() == 'y': # we can use the .lower() method to accept both upper case and lower case responses\n",
    "        print(\"I knew it! I am the greatest wizard of all time!\")\n",
    "\n",
    "        break # WE END THE PROGRAM HERE\n",
    "\n",
    "    elif correct_guess.lower() != 'n': # note that we swapped for != 'n'.\n",
    "        \"Despite my mental powers, I have no idea what you mean. Try following my instructions next time!\"\n",
    "\n",
    "        break # WE END THE PROGRAM HERE\n",
    "\n",
    "    # Step 5. Updating the range\n",
    "    hi_low_message = \"Is your number higher or lower than my guess? Use 'h' for higher and 'l' for lower.\"\n",
    "    hi_low_result = input(hi_low_message)\n",
    "\n",
    "    range_higher = False # Range goes higher = True, Range goes lower = False\n",
    "    if hi_low_result == 'h':\n",
    "        range_higher = True\n",
    "\n",
    "    elif hi_low_result != 'l': #note that if hi_low_message == 'l' we don't need to do anything!\n",
    "        print(\"I have no idea what you're blabbering on about! Let's start again.\")\n",
    "\n",
    "        break # WE END THE PROGRAM HERE\n",
    "\n",
    "    #let's update the variables\n",
    "    if range_higher:\n",
    "        range_min = guess \n",
    "    else:\n",
    "        range_max = guess"
   ]
  }
 ],
 "metadata": {
  "kernelspec": {
   "display_name": "Python 3",
   "language": "python",
   "name": "python3"
  },
  "language_info": {
   "codemirror_mode": {
    "name": "ipython",
    "version": 3
   },
   "file_extension": ".py",
   "mimetype": "text/x-python",
   "name": "python",
   "nbconvert_exporter": "python",
   "pygments_lexer": "ipython3",
   "version": "3.12.3"
  }
 },
 "nbformat": 4,
 "nbformat_minor": 2
}
