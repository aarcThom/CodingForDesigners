{
 "cells": [
  {
   "cell_type": "markdown",
   "metadata": {},
   "source": [
    "# Lists\n",
    "### Assigned Readings:\n",
    "\n",
    "[Think Python - Chapter 9](https://learning.oreilly.com/library/view/think-python-3rd/9781098155421/ch09.html)\n",
    "\n",
    "[Think Python - Chapter 11](https://learning.oreilly.com/library/view/think-python-3rd/9781098155421/ch11.html)\n",
    "\n",
    "[Think Python - Chapter 10 (This is Optional)](https://learning.oreilly.com/library/view/think-python-3rd/9781098155421/ch10.html)\n",
    "\n",
    "The above readings are required for the following lecture. The lecture will recover a lot of the same ground but may not cover all material contained in the chapters. In particular, we won't dive as deeply into ***Tuples***. In addition, we won't cover ***Dictionaries*** in this course. It's not that these topics aren't important - they are! - but that we only have limited time in this course!\n",
    "\n",
    "---"
   ]
  },
  {
   "cell_type": "markdown",
   "metadata": {},
   "source": [
    "***Lists*** are one of the most versatile and frequently used data structures in Python. Think of a list as a collection of items, much like a shopping list or a to-do list. Each item in a list can be of any type—numbers, strings, or even other lists.\n",
    "\n",
    "To create a list, we initialize a variable and point it at a list object which is represented by square brackets, and optionally objects to be contained in the list seperated by commas."
   ]
  },
  {
   "cell_type": "code",
   "execution_count": 2,
   "metadata": {},
   "outputs": [
    {
     "name": "stdout",
     "output_type": "stream",
     "text": [
      "<class 'list'>\n"
     ]
    }
   ],
   "source": [
    "# this is how we create an empty list\n",
    "empty_list = []\n",
    "\n",
    "# this is how we create a list with three integer objects\n",
    "int_list = [0,1,2]\n",
    "\n",
    "print(type(empty_list))"
   ]
  },
  {
   "cell_type": "markdown",
   "metadata": {},
   "source": [
    "### Key Features:\n",
    "* **Ordered Collection**: Lists maintain the order of items. If you add items in a specific sequence, they will stay in that sequence.\n",
    "* **Dynamic Size**: Unlike arrays in some other programming languages, Python lists can grow and shrink in size as needed. You can add or remove items anytime.\n",
    "* **Diverse Elements**: A single list can hold different types of elements. For example, you can have a list containing an integer, a string, and another list.\n",
    "* **Mutable**: You can change the contents of a list after it has been created. This means you can update, delete, or insert items.\n",
    "\n",
    "---\n",
    "\n",
    "### Ordered Collection\n",
    "\n",
    "A list is ordered. Each object in the list has an ***index***. If you've used Grasshopper before, this concept of an index will be familiar. When you use a Grasshopper panel to view a list of items, you are presented with the index of each item in the left-most column of the panel. Likewise a Python list assigns each element an index - however, the index is not explicitly shown as it is in Grasshopper.\n",
    "\n",
    "<img src=\"img\\00_gh_list.png\" width=\"1100\">\n",
    "\n",
    "If you haven't used Grasshopper before, don't worry! Just consider a Python list like a numbered shopping list. \n",
    "\n",
    "#### Slice Operators\n",
    "Since a list is ordered, we can use ***slice operators*** like we did with *strings* in order to grab certain items from a list."
   ]
  },
  {
   "cell_type": "code",
   "execution_count": 5,
   "metadata": {},
   "outputs": [
    {
     "name": "stdout",
     "output_type": "stream",
     "text": [
      "<class 'list'> ['apples', 'bananas', 'milk', 'chicken', 'broccoli', 'bread']\n"
     ]
    }
   ],
   "source": [
    "# create the List\n",
    "grocery_list = [\"apples\", \"bananas\", \"milk\", \"chicken\", \"broccoli\", \"bread\"]\n",
    "\n",
    "print(type(grocery_list), grocery_list)"
   ]
  },
  {
   "cell_type": "code",
   "execution_count": 6,
   "metadata": {},
   "outputs": [
    {
     "name": "stdout",
     "output_type": "stream",
     "text": [
      "bananas\n"
     ]
    }
   ],
   "source": [
    "# we can access a single object from a list using the object's index within square brackets\n",
    "print(grocery_list[1])"
   ]
  },
  {
   "cell_type": "code",
   "execution_count": 7,
   "metadata": {},
   "outputs": [
    {
     "name": "stdout",
     "output_type": "stream",
     "text": [
      "apples\n",
      "bread\n"
     ]
    }
   ],
   "source": [
    "# we access the first item using 0, and the last item with -1\n",
    "print(grocery_list[0])\n",
    "\n",
    "print(grocery_list[-1])"
   ]
  },
  {
   "cell_type": "code",
   "execution_count": 9,
   "metadata": {},
   "outputs": [
    {
     "data": {
      "text/plain": [
       "['bananas', 'milk', 'chicken']"
      ]
     },
     "execution_count": 9,
     "metadata": {},
     "output_type": "execute_result"
    }
   ],
   "source": [
    "# we can grab a range of items objects using the same slice notation as strings\n",
    "# the first number is the start index\n",
    "# the second number is the index we slice up to, exclusive\n",
    "\n",
    "grocery_list[1:4]"
   ]
  },
  {
   "cell_type": "code",
   "execution_count": 10,
   "metadata": {},
   "outputs": [
    {
     "name": "stdout",
     "output_type": "stream",
     "text": [
      "['apples', 'bananas', 'milk', 'chicken']\n",
      "['chicken', 'broccoli', 'bread']\n"
     ]
    }
   ],
   "source": [
    "# we can also grab objects up to from the beginning, or from up to the end, by dropping indexes in the slice notation\n",
    "\n",
    "# from start to index 3\n",
    "print(grocery_list[:4])\n",
    "\n",
    "# from index 3 to end\n",
    "print(grocery_list[3:])"
   ]
  },
  {
   "cell_type": "markdown",
   "metadata": {},
   "source": [
    "### List Methods Related to Order\n",
    "Since our list is ordered, and all data in Python (including lists) are objects, we can access list *methods* using *dot notation*, just like we did with strings. You can find all built-in list methods [here.](https://www.w3schools.com/python/python_ref_list.asp)"
   ]
  },
  {
   "cell_type": "code",
   "execution_count": 20,
   "metadata": {},
   "outputs": [
    {
     "name": "stdout",
     "output_type": "stream",
     "text": [
      "<class 'list'> ['car', 'truck', 'car', 'plane', 'bus']\n"
     ]
    }
   ],
   "source": [
    "# initializing a variables and pointing towards a new list\n",
    "vehicles = ['car', 'truck', 'car', 'plane', 'bus']\n",
    "\n",
    "print(type(vehicles), vehicles)"
   ]
  },
  {
   "cell_type": "markdown",
   "metadata": {},
   "source": [
    "#### Reordering the List"
   ]
  },
  {
   "cell_type": "code",
   "execution_count": 21,
   "metadata": {},
   "outputs": [
    {
     "name": "stdout",
     "output_type": "stream",
     "text": [
      "['bus', 'car', 'car', 'plane', 'truck']\n",
      "['truck', 'plane', 'car', 'car', 'bus']\n"
     ]
    }
   ],
   "source": [
    "# we can sort the list - the objects will be sorted alphabetically, or numerically, if possible\n",
    "vehicles.sort()\n",
    "print(vehicles)\n",
    "\n",
    "# we can reverse a list\n",
    "vehicles.reverse()\n",
    "print(vehicles)"
   ]
  },
  {
   "cell_type": "markdown",
   "metadata": {},
   "source": [
    "#### List Information Methods"
   ]
  },
  {
   "cell_type": "code",
   "execution_count": 22,
   "metadata": {},
   "outputs": [
    {
     "name": "stdout",
     "output_type": "stream",
     "text": [
      "Car appears first at index 2 and occurs 2 times in this list.\n"
     ]
    }
   ],
   "source": [
    "# we can return how many times an object appears in a list\n",
    "car_count = vehicles.count('car')\n",
    "\n",
    "# And at what index and item first appears\n",
    "first_car_ix = vehicles.index('car')\n",
    "\n",
    "print(f'Car appears first at index {first_car_ix} and occurs {car_count} times in this list.')"
   ]
  },
  {
   "cell_type": "markdown",
   "metadata": {},
   "source": [
    "### Iterating through a List\n",
    "Since our list has a certain order we can iterate through the objects in the list using a ***for loop***. This will quickly become one of the most common operations you perform! Let's set up two lists, one for fruits and veggies, and one for their colors."
   ]
  },
  {
   "cell_type": "code",
   "execution_count": 23,
   "metadata": {},
   "outputs": [],
   "source": [
    "# the fruit / veggie list\n",
    "fruits_veggies = ['bananas', 'apple', 'broccoli', 'spinach', 'lime','lemon']\n",
    "produce_colors = ['yellow', 'red', 'green', 'green', 'green', 'yellow' ]"
   ]
  },
  {
   "cell_type": "markdown",
   "metadata": {},
   "source": [
    "We can iterate through one list using the syntax `for var in list` where `var` is a placeholder variabel that updates with each iterated object in the list, and `list` is the list we want to iterate. For instance:"
   ]
  },
  {
   "cell_type": "code",
   "execution_count": 24,
   "metadata": {},
   "outputs": [
    {
     "name": "stdout",
     "output_type": "stream",
     "text": [
      "bananas\n",
      "apple\n",
      "broccoli\n",
      "spinach\n",
      "lime\n",
      "lemon\n"
     ]
    }
   ],
   "source": [
    "for food in fruits_veggies:\n",
    "    print(food)"
   ]
  },
  {
   "cell_type": "markdown",
   "metadata": {},
   "source": [
    "Often, we will want to know the index of each object we are iterating through. To do so we use the function ***enumerate()*** before the list we want to iterate through. We then have to declare two variables - the first (usually `i`) will return the index, the second will be the actual object. For instance:"
   ]
  },
  {
   "cell_type": "code",
   "execution_count": 25,
   "metadata": {},
   "outputs": [
    {
     "name": "stdout",
     "output_type": "stream",
     "text": [
      "bananas is at index 0\n",
      "apple is at index 1\n",
      "broccoli is at index 2\n",
      "spinach is at index 3\n",
      "lime is at index 4\n",
      "lemon is at index 5\n"
     ]
    }
   ],
   "source": [
    "for i, food in enumerate(fruits_veggies):\n",
    "    print(f'{food} is at index {i}')"
   ]
  },
  {
   "cell_type": "markdown",
   "metadata": {},
   "source": [
    "Using what we've learned so far in this less we can accomplish some pretty complex things!"
   ]
  },
  {
   "cell_type": "code",
   "execution_count": 26,
   "metadata": {},
   "outputs": [
    {
     "name": "stdout",
     "output_type": "stream",
     "text": [
      "bananas\n",
      "apple\n",
      "broccoli\n",
      "spinach\n",
      "lime\n"
     ]
    }
   ],
   "source": [
    "# using slice operators to limit our slice to every item but the last\n",
    "for food in fruits_veggies[:-1]:\n",
    "    print(food)"
   ]
  },
  {
   "cell_type": "code",
   "execution_count": 28,
   "metadata": {},
   "outputs": [
    {
     "name": "stdout",
     "output_type": "stream",
     "text": [
      "You forgot to purchase lime!\n",
      "You forgot to purchase lemon!\n"
     ]
    }
   ],
   "source": [
    "# we could check if we forgot something from our grocery list\n",
    "my_purchases = fruits_veggies[:-2]\n",
    "\n",
    "for item in fruits_veggies:\n",
    "    if my_purchases.count(item) == 0:\n",
    "        print(f'You forgot to purchase {item}!')"
   ]
  },
  {
   "cell_type": "code",
   "execution_count": 29,
   "metadata": {},
   "outputs": [
    {
     "name": "stdout",
     "output_type": "stream",
     "text": [
      "bananas is yellow so baby will eat it!\n",
      "apple is red so baby will eat it!\n",
      "baby won't eat broccoli\n",
      "baby won't eat spinach\n",
      "baby won't eat lime\n",
      "lemon is yellow so baby will eat it!\n"
     ]
    }
   ],
   "source": [
    "# Assuming you have a picky toddler who won't eat green foods...\n",
    "for i, food in enumerate(fruits_veggies):\n",
    "    if produce_colors[i] != 'green':\n",
    "        print(f\"{food} is {produce_colors[i]} so baby will eat it!\")\n",
    "    else:\n",
    "        print(f\"baby won't eat {food}\")"
   ]
  },
  {
   "cell_type": "markdown",
   "metadata": {},
   "source": [
    "## Lists are Dynamically Sized\n",
    "Unlike *arrays* in other programming languages, we can add and remove objects to and from lists as we please."
   ]
  },
  {
   "cell_type": "code",
   "execution_count": 31,
   "metadata": {},
   "outputs": [],
   "source": [
    "# initializing a variables and pointing towards a new list\n",
    "vehicles = ['car', 'truck', 'car', 'plane', 'bus']"
   ]
  },
  {
   "cell_type": "markdown",
   "metadata": {},
   "source": [
    "#### Adding Objects to a List"
   ]
  },
  {
   "cell_type": "code",
   "execution_count": 32,
   "metadata": {},
   "outputs": [
    {
     "name": "stdout",
     "output_type": "stream",
     "text": [
      "6 ['car', 'truck', 'car', 'plane', 'bus', 'boat']\n",
      "8 ['car', 'truck', 'car', 'plane', 'bus', 'boat', 'ferry', 'motorcycle']\n",
      "9 ['scooter', 'car', 'truck', 'car', 'plane', 'bus', 'boat', 'ferry', 'motorcycle']\n"
     ]
    }
   ],
   "source": [
    "# We can add an element to the end of the list with append\n",
    "vehicles.append('boat')\n",
    "print(len(vehicles), vehicles)\n",
    "\n",
    "# can also extend a list with another list\n",
    "vehicles.extend(['ferry', 'motorcycle'])\n",
    "print(len(vehicles), vehicles)\n",
    "\n",
    "# finally we can insert an item at a specific index\n",
    "vehicles.insert(0, 'scooter')\n",
    "print(len(vehicles), vehicles)"
   ]
  },
  {
   "cell_type": "markdown",
   "metadata": {},
   "source": [
    "#### Removing Objects from a List"
   ]
  },
  {
   "cell_type": "code",
   "execution_count": 33,
   "metadata": {},
   "outputs": [
    {
     "name": "stdout",
     "output_type": "stream",
     "text": [
      "8 ['scooter', 'truck', 'car', 'plane', 'bus', 'boat', 'ferry', 'motorcycle']\n",
      "7 ['scooter', 'truck', 'car', 'plane', 'bus', 'boat', 'ferry']\n",
      "0 []\n"
     ]
    }
   ],
   "source": [
    "# remove the first item with the specified value\n",
    "vehicles.remove('car')\n",
    "print(len(vehicles), vehicles)\n",
    "\n",
    "# remove an element at a specific location\n",
    "vehicles.pop(-1)\n",
    "print(len(vehicles), vehicles)\n",
    "\n",
    "# remove all elements from a list\n",
    "vehicles.clear()\n",
    "print(len(vehicles), vehicles)"
   ]
  },
  {
   "cell_type": "markdown",
   "metadata": {},
   "source": [
    "#### Combining these methods with Iteration\n",
    "One of the most common things you'll find yourself doing, is sorting data based on a condition, and return a new list."
   ]
  },
  {
   "cell_type": "code",
   "execution_count": 43,
   "metadata": {},
   "outputs": [
    {
     "name": "stdout",
     "output_type": "stream",
     "text": [
      "[2, 4, 6, 8, 10, 12, 14, 16, 18, 20, 22, 24, 26, 28, 30, 32, 34, 36, 38, 40, 42, 44, 46, 48, 50, 52, 54, 56, 58, 60, 62, 64, 66, 68, 70, 72, 74, 76, 78, 80, 82, 84, 86, 88, 90, 92, 94, 96, 98, 100]\n"
     ]
    }
   ],
   "source": [
    "even_numbers = []\n",
    "\n",
    "for i in range(100):\n",
    "    if i % 2 == 0:\n",
    "        even_numbers.append(i + 2) # if we want to include 100, but not zero\n",
    "\n",
    "print(even_numbers)"
   ]
  },
  {
   "cell_type": "markdown",
   "metadata": {},
   "source": [
    "Remember the list of colors and produce? We can create a new list only containing produce the baby will eat."
   ]
  },
  {
   "cell_type": "code",
   "execution_count": 39,
   "metadata": {},
   "outputs": [],
   "source": [
    "# the fruit / veggie list\n",
    "fruits_veggies = ['bananas', 'apple', 'broccoli', 'spinach', 'lime','lemon']\n",
    "produce_colors = ['yellow', 'red', 'green', 'green', 'green', 'yellow' ]"
   ]
  },
  {
   "cell_type": "code",
   "execution_count": 38,
   "metadata": {},
   "outputs": [
    {
     "name": "stdout",
     "output_type": "stream",
     "text": [
      "baby will eat  ['bananas', 'apple', 'lemon']\n",
      "Icky foods  ['broccoli', 'spinach', 'lime']\n"
     ]
    }
   ],
   "source": [
    "# create a new empty list and assigned a variable\n",
    "baby_will_eat = []\n",
    "baby_wont_eat = []\n",
    "\n",
    "# iterate through the fruits_veggies list and return botm objects, and indices\n",
    "for i, produce in enumerate(fruits_veggies):\n",
    "\n",
    "    #test if corresponding item in colors list is not green\n",
    "    if produce_colors[i] != 'green':\n",
    "        # add the non-icky food to the new list\n",
    "        baby_will_eat.append(produce)\n",
    "    else:\n",
    "        baby_wont_eat.append(produce)\n",
    "\n",
    "print(\"baby will eat \",baby_will_eat)\n",
    "print(\"Icky foods \",baby_wont_eat)"
   ]
  },
  {
   "cell_type": "markdown",
   "metadata": {},
   "source": [
    "## List Can Contain Diverse Elements\n",
    "\n",
    "Python lists can contain multiple types of elements. In practice, it's not super common, but know that it's possible"
   ]
  },
  {
   "cell_type": "code",
   "execution_count": 45,
   "metadata": {},
   "outputs": [
    {
     "name": "stdout",
     "output_type": "stream",
     "text": [
      "<class 'list'> [1, 2, 3, 'apple', 'pear', 'banana']\n"
     ]
    }
   ],
   "source": [
    "diverse_list = [1,2,3, \"apple\", \"pear\", \"banana\"]\n",
    "\n",
    "print(type(diverse_list), diverse_list)"
   ]
  },
  {
   "cell_type": "markdown",
   "metadata": {},
   "source": [
    "Lists with diverse objects types will behave more or less the same as regular lists..."
   ]
  },
  {
   "cell_type": "code",
   "execution_count": 46,
   "metadata": {},
   "outputs": [
    {
     "name": "stdout",
     "output_type": "stream",
     "text": [
      "1 = <class 'int'>\n",
      "2 = <class 'int'>\n",
      "3 = <class 'int'>\n",
      "apple = <class 'str'>\n",
      "pear = <class 'str'>\n",
      "banana = <class 'str'>\n"
     ]
    }
   ],
   "source": [
    "for item in diverse_list:\n",
    "    print(f'{item} = {type(item)}')"
   ]
  },
  {
   "cell_type": "markdown",
   "metadata": {},
   "source": [
    "But this may lead to issues when you want to perform operations on the objects within the list. The for loop will correctly process the numbrs, but throw an error on the first string."
   ]
  },
  {
   "cell_type": "code",
   "execution_count": 47,
   "metadata": {},
   "outputs": [
    {
     "name": "stdout",
     "output_type": "stream",
     "text": [
      "0\n",
      "1\n",
      "1\n"
     ]
    },
    {
     "ename": "TypeError",
     "evalue": "unsupported operand type(s) for //: 'str' and 'int'",
     "output_type": "error",
     "traceback": [
      "\u001b[1;31m---------------------------------------------------------------------------\u001b[0m",
      "\u001b[1;31mTypeError\u001b[0m                                 Traceback (most recent call last)",
      "Cell \u001b[1;32mIn[47], line 2\u001b[0m\n\u001b[0;32m      1\u001b[0m \u001b[38;5;28;01mfor\u001b[39;00m item \u001b[38;5;129;01min\u001b[39;00m diverse_list:\n\u001b[1;32m----> 2\u001b[0m     \u001b[38;5;28mprint\u001b[39m(\u001b[43mitem\u001b[49m\u001b[43m \u001b[49m\u001b[38;5;241;43m/\u001b[39;49m\u001b[38;5;241;43m/\u001b[39;49m\u001b[43m \u001b[49m\u001b[38;5;241;43m2\u001b[39;49m)\n",
      "\u001b[1;31mTypeError\u001b[0m: unsupported operand type(s) for //: 'str' and 'int'"
     ]
    }
   ],
   "source": [
    "for item in diverse_list:\n",
    "    print(item // 2)"
   ]
  },
  {
   "cell_type": "markdown",
   "metadata": {},
   "source": [
    "You can handle this in a few different ways, but it's often not really worth it."
   ]
  },
  {
   "cell_type": "code",
   "execution_count": 49,
   "metadata": {},
   "outputs": [
    {
     "name": "stdout",
     "output_type": "stream",
     "text": [
      "0\n",
      "1\n",
      "1\n",
      "I can't divide apple!\n",
      "I can't divide pear!\n",
      "I can't divide banana!\n"
     ]
    }
   ],
   "source": [
    "for item in diverse_list:\n",
    "    if type(item) == int:\n",
    "        print(item // 2)\n",
    "    else:\n",
    "        print(f\"I can't divide {item}!\")"
   ]
  },
  {
   "cell_type": "markdown",
   "metadata": {},
   "source": [
    "### Nested Lists\n",
    "What you will work with more commonly (but I'd encolurage you to do so sparingly), is ***nested lists***. These are lists of lists. If you have worked in grasshopper, the concept of *path* is roughly equivalent.\n",
    "\n",
    "<img src=\"img\\01_lists_lists.png\" width=\"1100\">\n",
    "\n",
    "If you haven't worked with grasshopper, don't worry! You can think of nested lists as a notepad of to-do lists. For instance, you could refer to item #2 on page #1.\n"
   ]
  },
  {
   "cell_type": "code",
   "execution_count": 50,
   "metadata": {},
   "outputs": [],
   "source": [
    "# create the to-do lists (the pages)\n",
    "page_0 = ['buy groceries', 'wash car', 'feed dogs']\n",
    "page_1 = ['sleep', 'work']\n",
    "page_2 = ['relax', 'enjoy life', 'stop making lists']"
   ]
  },
  {
   "cell_type": "code",
   "execution_count": 51,
   "metadata": {},
   "outputs": [
    {
     "data": {
      "text/plain": [
       "[['buy groceries', 'wash car', 'feed dogs'],\n",
       " ['sleep', 'work'],\n",
       " ['relax', 'enjoy life', 'stop making lists']]"
      ]
     },
     "execution_count": 51,
     "metadata": {},
     "output_type": "execute_result"
    }
   ],
   "source": [
    "# create the list of lists (ie. the note pad)\n",
    "note_pad = [page_0, page_1, page_2]\n",
    "note_pad"
   ]
  },
  {
   "cell_type": "markdown",
   "metadata": {},
   "source": [
    "We can access specific items in the nested list by using *slice notation* at each level of nesting"
   ]
  },
  {
   "cell_type": "code",
   "execution_count": 56,
   "metadata": {},
   "outputs": [
    {
     "name": "stdout",
     "output_type": "stream",
     "text": [
      "['buy groceries', 'wash car', 'feed dogs']\n",
      "stop making lists\n",
      "['sleep', 'work']\n"
     ]
    }
   ],
   "source": [
    "# select the first page in it's entirety\n",
    "print(note_pad[0])\n",
    "\n",
    "# select the last item of the last page\n",
    "print(note_pad[-1][-1])\n",
    "\n",
    "# select the first two items of the second page\n",
    "print(note_pad[1][:2])"
   ]
  },
  {
   "cell_type": "markdown",
   "metadata": {},
   "source": [
    "We can also iterate through lists of lists. Again, I'd encourage you not to go down deepr than one level!"
   ]
  },
  {
   "cell_type": "code",
   "execution_count": 53,
   "metadata": {},
   "outputs": [
    {
     "name": "stdout",
     "output_type": "stream",
     "text": [
      "Page 0 = ['buy groceries', 'wash car', 'feed dogs']\n",
      "Page 1 = ['sleep', 'work']\n",
      "Page 2 = ['relax', 'enjoy life', 'stop making lists']\n"
     ]
    }
   ],
   "source": [
    "for page_num, todo_list in  enumerate(note_pad):\n",
    "    print(f\"Page {page_num} = {todo_list}\")"
   ]
  },
  {
   "cell_type": "code",
   "execution_count": 55,
   "metadata": {},
   "outputs": [
    {
     "name": "stdout",
     "output_type": "stream",
     "text": [
      "Page 0's List -------------\n",
      "0  -  buy groceries\n",
      "1  -  wash car\n",
      "2  -  feed dogs\n",
      " \n",
      "Page 1's List -------------\n",
      "0  -  sleep\n",
      "1  -  work\n",
      " \n",
      "Page 2's List -------------\n",
      "0  -  relax\n",
      "1  -  enjoy life\n",
      "2  -  stop making lists\n",
      " \n"
     ]
    }
   ],
   "source": [
    "# Iterate the Pages\n",
    "for page_num, todo_list in  enumerate(note_pad):\n",
    "    print(f\"Page {page_num}'s List -------------\")\n",
    "\n",
    "    #Iterate the Items on each page\n",
    "    for item_num, item in enumerate(todo_list):\n",
    "        print(f\"{item_num}  -  {item}\")\n",
    "\n",
    "    #Add a new line - note the scope! I'm back in the upper-most loop\n",
    "    print(\" \")"
   ]
  },
  {
   "cell_type": "markdown",
   "metadata": {},
   "source": [
    "## Lists are Mutable\n",
    "Before we think about *mutability*, let's reconsider the fact that certain objects, such as *strings* and *numbers* are **immutable**. This simply means that once, we have created one of these objects we can't modify it. Further, we can't reference it with more than variable, since re-referencing creates a new object. In this comic, by Daniel Stori, the lightbulb and man are immutable objects.\n",
    "\n",
    "<img src=\"img\\02_immutable.jpeg\" width=\"600\">\n",
    "\n",
    "\n",
    "Consider a simple example,"
   ]
  },
  {
   "cell_type": "code",
   "execution_count": 59,
   "metadata": {},
   "outputs": [],
   "source": [
    "# point a new variable at a new string object\n",
    "string_var1 = 'hello world'"
   ]
  },
  {
   "cell_type": "markdown",
   "metadata": {},
   "source": [
    "When we a number or string object to a variable, we are pointing that variable at a newly created object.\n",
    "\n",
    "<img src=\"img\\03_point_01.png\" width=\"600\">\n"
   ]
  },
  {
   "cell_type": "code",
   "execution_count": 60,
   "metadata": {},
   "outputs": [],
   "source": [
    "# point the old variable at a new object\n",
    "string_var1 = \"goodbye world\""
   ]
  },
  {
   "cell_type": "markdown",
   "metadata": {},
   "source": [
    "Under the hood Python doesn't change our string `\"hello world\"` to `\"goodbye world\"`. Rather, is gets rid of the `\"hello world\"` object completly and creates a new `\"goodbye world\"` object.\n",
    "\n",
    "<img src=\"img\\03_point_02.png\" width=\"600\">"
   ]
  },
  {
   "cell_type": "code",
   "execution_count": 61,
   "metadata": {},
   "outputs": [],
   "source": [
    "# create a new variable, but point it at the old variable\n",
    "string_var2 = string_var1"
   ]
  },
  {
   "cell_type": "markdown",
   "metadata": {},
   "source": [
    "You might think that the new variable is referencing the old variable, but what's actually going on, is that Python *copies* the immutable object the old variable is pointing to, resulting in the new variable pointing to a new object.\n",
    "<img src=\"img\\03_point_03.png\" width=\"600\">\n",
    "\n",
    "This immutability, is why `string_var2` does not 'update', when we 'update' `string_var1`."
   ]
  },
  {
   "cell_type": "code",
   "execution_count": 62,
   "metadata": {},
   "outputs": [
    {
     "name": "stdout",
     "output_type": "stream",
     "text": [
      "goodbye world HELLLO!\n",
      "goodbye world\n"
     ]
    }
   ],
   "source": [
    "# 'update' string_var1\n",
    "\n",
    "string_var1 = string_var1 + \" HELLLO!\"\n",
    "\n",
    "print(string_var1)\n",
    "print(string_var2)"
   ]
  },
  {
   "cell_type": "markdown",
   "metadata": {},
   "source": [
    "Lists work differently, they are ***mutable***. We can modify the list object itself. In other words, when we add a new item to a list, we aren't replacing that list with a copy of a list with one new item added - we're literally adding an object to the same list."
   ]
  },
  {
   "cell_type": "markdown",
   "metadata": {},
   "source": [
    "We can compare this with a string using the function `id()` which returns the unique identifier for each object."
   ]
  },
  {
   "cell_type": "code",
   "execution_count": 65,
   "metadata": {},
   "outputs": [
    {
     "name": "stdout",
     "output_type": "stream",
     "text": [
      "1829687729200\n",
      "1829687633648\n"
     ]
    }
   ],
   "source": [
    "# see how the ID changes, it's a new object!\n",
    "string_var = 'hello '\n",
    "\n",
    "print(id(string_var))\n",
    "\n",
    "string_var += \" world\"\n",
    "\n",
    "print(id(string_var))"
   ]
  },
  {
   "cell_type": "code",
   "execution_count": 66,
   "metadata": {},
   "outputs": [
    {
     "name": "stdout",
     "output_type": "stream",
     "text": [
      "1829693140288\n",
      "1829693140288\n"
     ]
    }
   ],
   "source": [
    "# in contrast adding another string to a list will modify the list in place - this is mutability\n",
    "string_list = ['hello']\n",
    "\n",
    "print(id(string_list))\n",
    "\n",
    "string_list.append(' world')\n",
    "\n",
    "print(id(string_list))"
   ]
  },
  {
   "cell_type": "markdown",
   "metadata": {},
   "source": [
    "### Side Effects\n",
    "The comic above references side effects. ***Side effects*** are changes in objects outside of a given scope. Often, we'll refer to a function having side effects, but side effects happen when we aren't careful with mutable objects such as lists.\n",
    "\n",
    "Since we are effectively pointing two variables at the same object, changes made to that object through one variable will be present regardless of the variable used to reference that object.\n",
    "\n",
    "<img src=\"img\\03_point_04.png\" width=\"600\">"
   ]
  },
  {
   "cell_type": "code",
   "execution_count": 68,
   "metadata": {},
   "outputs": [
    {
     "name": "stdout",
     "output_type": "stream",
     "text": [
      "['apples', 'lemons', 'bread', 'milk']\n",
      "['apples', 'lemons', 'bread', 'milk']\n"
     ]
    }
   ],
   "source": [
    "# let's make a grocery list\n",
    "grocery_list = ['apples', 'lemons', 'bread', 'milk', 'spinach', 'limes']\n",
    "\n",
    "# now let's make a list for a toddler who won't eat green stuff\n",
    "toddler_list = grocery_list # 'copy' over the original list the wrong way\n",
    "toddler_list.remove('spinach')\n",
    "toddler_list.remove('limes')\n",
    "\n",
    "print(grocery_list)\n",
    "print(toddler_list)"
   ]
  },
  {
   "cell_type": "markdown",
   "metadata": {},
   "source": [
    "This can get especially confusing when we deal with iteration."
   ]
  },
  {
   "cell_type": "code",
   "execution_count": 77,
   "metadata": {},
   "outputs": [
    {
     "name": "stdout",
     "output_type": "stream",
     "text": [
      "[[], [], [], [], []]\n"
     ]
    }
   ],
   "source": [
    "# Let's create a list of lists the wrong way!\n",
    "\n",
    "# start with an empty list\n",
    "inner_list = []\n",
    "\n",
    "# add an empty list to an a bigger empty list, iteratively\n",
    "outer_list = []\n",
    "\n",
    "for i in range(5):\n",
    "    outer_list.append(inner_list)\n",
    "\n",
    "print(outer_list)\n"
   ]
  },
  {
   "cell_type": "code",
   "execution_count": 78,
   "metadata": {},
   "outputs": [
    {
     "name": "stdout",
     "output_type": "stream",
     "text": [
      "[['hello'], ['hello'], ['hello'], ['hello'], ['hello']]\n"
     ]
    }
   ],
   "source": [
    "# now lets add a value to the first inner list in the outer list\n",
    "outer_list[0].append('hello')\n",
    "\n",
    "print(outer_list)"
   ]
  },
  {
   "cell_type": "markdown",
   "metadata": {},
   "source": [
    "You can see that the `outer_list` is composed of 5 references to the *same* list object. So, when we append `'hello'` to the first item in `outer_list`, we're actually appending that item to the object that all items reference!"
   ]
  },
  {
   "cell_type": "markdown",
   "metadata": {},
   "source": [
    "### Avoiding Side Effects\n",
    "There are times when you want to modify an object (like appending a list), but often you want a duplicate of said list to avoid these side effects. There are a few ways to do so."
   ]
  },
  {
   "cell_type": "code",
   "execution_count": 79,
   "metadata": {},
   "outputs": [
    {
     "name": "stdout",
     "output_type": "stream",
     "text": [
      "['apples', 'lemons', 'bread', 'milk', 'spinach', 'limes']\n",
      "['apples', 'lemons', 'bread', 'milk']\n"
     ]
    }
   ],
   "source": [
    "# we can copy a list using the .copy() method\n",
    "\n",
    "# let's make a grocery list\n",
    "grocery_list = ['apples', 'lemons', 'bread', 'milk', 'spinach', 'limes']\n",
    "\n",
    "# now let's make a list for a toddler who won't eat green stuff\n",
    "toddler_list = grocery_list.copy() # 'copy' over the original list the right way\n",
    "toddler_list.remove('spinach')\n",
    "toddler_list.remove('limes')\n",
    "\n",
    "print(grocery_list)\n",
    "print(toddler_list)"
   ]
  },
  {
   "cell_type": "code",
   "execution_count": 80,
   "metadata": {},
   "outputs": [
    {
     "name": "stdout",
     "output_type": "stream",
     "text": [
      "['apples', 'lemons', 'bread', 'milk', 'spinach', 'limes']\n",
      "['apples', 'lemons', 'bread', 'milk']\n"
     ]
    }
   ],
   "source": [
    "# we can also use slice notation to do the same thing\n",
    "\n",
    "# let's make a grocery list\n",
    "grocery_list = ['apples', 'lemons', 'bread', 'milk', 'spinach', 'limes']\n",
    "\n",
    "# now let's make a list for a toddler who won't eat green stuff\n",
    "toddler_list = grocery_list[:] # 'copy' over the original list the right way\n",
    "toddler_list.remove('spinach')\n",
    "toddler_list.remove('limes')\n",
    "\n",
    "print(grocery_list)\n",
    "print(toddler_list)"
   ]
  },
  {
   "cell_type": "markdown",
   "metadata": {},
   "source": [
    "And, you might encounter situations where you want to place empty lists in a list, you can do this properly by simply creating a new list during the loop."
   ]
  },
  {
   "cell_type": "code",
   "execution_count": 81,
   "metadata": {},
   "outputs": [
    {
     "name": "stdout",
     "output_type": "stream",
     "text": [
      "[['hello'], [], [], [], []]\n"
     ]
    }
   ],
   "source": [
    "outer_list = []\n",
    "\n",
    "for i in range(5):\n",
    "    outer_list.append([]) # this creates a new list object each loop\n",
    "\n",
    "outer_list[0].append('hello')\n",
    "\n",
    "print(outer_list)"
   ]
  }
 ],
 "metadata": {
  "kernelspec": {
   "display_name": "Python 3",
   "language": "python",
   "name": "python3"
  },
  "language_info": {
   "codemirror_mode": {
    "name": "ipython",
    "version": 3
   },
   "file_extension": ".py",
   "mimetype": "text/x-python",
   "name": "python",
   "nbconvert_exporter": "python",
   "pygments_lexer": "ipython3",
   "version": "3.11.0"
  }
 },
 "nbformat": 4,
 "nbformat_minor": 2
}
