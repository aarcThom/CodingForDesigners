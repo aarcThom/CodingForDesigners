{
 "cells": [
  {
   "cell_type": "markdown",
   "metadata": {},
   "source": [
    "# Hello World - Workspace Setup\n",
    "\n",
    "### Assigned Readings:\n",
    "\n",
    "None! But in future notes, check this section for assigned reading links.\n",
    "\n",
    "---"
   ]
  },
  {
   "cell_type": "markdown",
   "metadata": {},
   "source": [
    "## Python the Language\n",
    "\n",
    "Python is a high-level, general-purpose programming language. Its design philosophy emphasizes code readability with the use of significant indentation. \n",
    "\n",
    "Python was developed by Guido van Rossum and initally released in 1991. It is consistently one of the most popular programming languages and is currently on the 3rd version.\n",
    "\n",
    "### Why Python?\n",
    "\n",
    "Python has a syntax close to the English language which softens the learning curve for those without a programming background.\n",
    "\n",
    "It is commonly used in the AEC industry with scripting environments available for Rhino and Revit.\n",
    "\n",
    "It is an extremely popular language that is well documented. Students will have no trouble googling their way to solving issues.\n",
    "\n",
    "It is the de facto language of data analysis, data science, machine learning but is also a general purpose programming language.\n",
    "\n",
    "Programming in the object oriented paradigm is well supported. These skills transfer over well to the other popular AEC language, C#.\n",
    "\n",
    "Despite its relative ease, it offers immense opportunities for further personal learning in more complex topics.\n",
    "\n",
    "### Hello World\n",
    "\n",
    "```print(“Hello world!”)```\n",
    "\n",
    "That’s all you have to do to get Python to print a nice greeting to the screen. It might seem simple but Python abstracts away a lot of the heavy lifting to provide us with a nice legible interface. We consider Python a ‘high level language.’\n",
    "\n",
    "For example, here’s how you would write “Hello world!” if you want to use a very low level language that will (almost) talk directly to your CPU: "
   ]
  },
  {
   "cell_type": "markdown",
   "metadata": {},
   "source": [
    "```global _start\n",
    "\n",
    "section .text\n",
    "\n",
    "_start:\n",
    "  mov rax, 1        ; write(\n",
    "  mov rdi, 1        ;   STDOUT_FILENO,\n",
    "  mov rsi, msg      ;   \"Hello, world!\\n\",\n",
    "  mov rdx, msglen   ;   sizeof(\"Hello, world!\\n\")\n",
    "  syscall           ; );\n",
    "\n",
    "  mov rax, 60       ; exit(\n",
    "  mov rdi, 0        ;   EXIT_SUCCESS\n",
    "  syscall           ; );\n",
    "\n",
    "section .rodata\n",
    "  msg: db \"Hello, world!\", 10\n",
    "  msglen: equ $ - msg"
   ]
  },
  {
   "cell_type": "markdown",
   "metadata": {},
   "source": [
    "We're lucky we don't have to write in assembly!\n",
    "\n",
    "---"
   ]
  },
  {
   "cell_type": "markdown",
   "metadata": {},
   "source": [
    "## Python the Program\n",
    "Our first step in working with Python is to install Python, *the program*, which is called and *interpreter.* The Python interpreter compiles our source code into a lower level byte code, and then runs it in a virtual machine. In other words, the Python interpreter, is what enables us to write human understandable, high level code - the program converts it to low level code the computer understands.\n",
    "\n",
    "![https://medium.com/@kaushik.k/internal-working-of-python-415572929e7a](img/001_interpreter.png)"
   ]
  },
  {
   "cell_type": "markdown",
   "metadata": {},
   "source": [
    "This upside ito this method of running code is that we can use an elegant and very natural feeling language. The downside is that we (usually) need Python - the program, installed on any computer that needs to run that code. Let’s install it now!\n",
    "\n",
    "---"
   ]
  },
  {
   "cell_type": "markdown",
   "metadata": {},
   "source": [
    "## Installing Python\n",
    "Go to [Python.org](https://www.python.org/) and click ‘download’ and then select the installer for your OS.\n",
    "\n",
    "<img src=\"img\\01_download.png\" height=\"200\">  --------> <img src=\"img\\02_files.png\" height=\"200\">"
   ]
  },
  {
   "cell_type": "markdown",
   "metadata": {},
   "source": [
    "Open the installer and click ‘install now’. Make sure that ‘Add python.exe to PATH’ is checked. Follow the rest of the installation process and close when done.\n",
    "\n",
    "<img src=\"img\\03_install.png\" height=\"300\"> ---> <img src=\"img\\04_success.png\" height=\"300\">\n",
    "\n",
    "---"
   ]
  },
  {
   "cell_type": "markdown",
   "metadata": {},
   "source": [
    "## Writing our First Line of Python\n",
    "\n",
    "Now search for ‘IDLE’ in windows explorer and click to open the program. IDLE is Python’s built-in development environment. \n",
    "\n",
    "<img src=\"img\\05_program.png\">\n",
    "\n",
    "We will now type our first line of Python code! Type ```print(“hello world”)``` and then press enter. You have just written a line of python code, and when you press enter, Python, the program, interprets and then runs that code, to output “hello world”.\n",
    "\n",
    "<img src=\"img\\06_idle.png\" height=\"300\">\n",
    "\n",
    "\n",
    "---"
   ]
  },
  {
   "cell_type": "markdown",
   "metadata": {},
   "source": [
    "## Using Visual Studio Code\n",
    "\n",
    "### Initial Setup and UI\n",
    "We will not be using IDLE to write code. We’ll opt for something a little more feature rich. Let’s download Visual Studio Code (VScode). Navigate to [code.visualstudio.com](https://code.visualstudio.com/) and download your OS’s version. You can go through the installer, with all default options.\n",
    "\n",
    "<img src=\"img\\07_vscode.png\" height = \"300\">"
   ]
  },
  {
   "cell_type": "markdown",
   "metadata": {},
   "source": [
    "When you open up VScode for the first time, you’ll be greeted with a change log. Click the little ***x*** in the upper left corner of the tab to close it. VScode uses a tab system like most common web browsers.\n",
    "\n",
    "<img src=\"img\\08_code_interface.png\" width=\"800\">"
   ]
  },
  {
   "cell_type": "markdown",
   "metadata": {},
   "source": [
    "VScode is language agnostic, so before we begin writing Python in VScode, we need to install the Python extension. Click the ‘extensions’ button on the left, and search for ‘python’. Install the microsoft checked, first result. This will install the Python plugin, as well as a few tools that will help us write code.\n",
    "\n",
    "<img src=\"img\\09_python_extension.png\" width=\"800\">"
   ]
  },
  {
   "cell_type": "markdown",
   "metadata": {},
   "source": [
    "We can start a python project! You will always work in a project folder. Create a new folder on your computer, click the explorer button on the upper left corner, and select the folder you just created. If prompted, trust the folder.\n",
    "\n",
    "<img src=\"img\\10_folder_trust.png\" height=\"300\">"
   ]
  },
  {
   "cell_type": "markdown",
   "metadata": {},
   "source": [
    "We can now right click in the folder explorer, and click ‘new_file’. Create a new file called ‘hello_world.py’ A .py file is how we will save basic Python code. \n",
    "\n",
    "<img src=\"img\\11_new_file.png\" width=\"500\">\n",
    "\n",
    "### The Code Editor and Terminal\n",
    "\n",
    "You should now see the hello_world.py file open in the code editor on the right. Like in IDLE, write ```print(“hello world”)``` and either click the ‘run’ button on the upper right, or use the shortcut **‘shift + enter’**. The result of your code, will pop-up in the terminal on the lower left-hand corner of the main work area.\n",
    "\n",
    "<img src=\"img\\12_code_editor.png\" width=\"800\">\n",
    "\n"
   ]
  },
  {
   "cell_type": "markdown",
   "metadata": {},
   "source": [
    "You will also notice that ‘autocomplete’ popped up when you started writing ```print()```. This is one of the reasons we use VScode over IDLE. It’s a great feature for when you can’t quite remember what a command is called. To complete the suggestion, hit **‘tab.’** You can also scroll down the suggestions with your up and down arrows.\n",
    "\n",
    "<img src=\"img\\13_autocomplete.png\" width=\"500\">"
   ]
  },
  {
   "cell_type": "markdown",
   "metadata": {},
   "source": [
    "You’ll often want to enclose parameters within parenthesis, like when you use the function ```print(“hello world”)```. You’ll also notice that once you type the left parenthesis ***(***, the right parenthesis autofills. \n",
    "\n",
    "Finally, you are also shown some documentation about what the function allows as input. Some functions allow different combinations of arguments - click the little arrow on the left bottom side of the pop-up menu to see what you can use as inputs.\n",
    "\n",
    "<img src=\"img\\14_doc_comments.png\" width=\"500\">\n",
    "\n",
    "In a project, we will often work with multiple files. Vscode offers a nice interface to work between files quickly.\n",
    "\n",
    "<img src=\"img\\15_explorer_interface.png\" width=\"800\">\n",
    "\n",
    "### Saving\n",
    "\n",
    "Finally vscode saves files similar to other programs we’ve used. Click file to see the save options or click ‘***ctrl + s’*** to save the currently open tab, ***‘ctrl + shift + s’*** to save-as the current tab, or use the chord ***‘ctrl + k, and then s’***.\n"
   ]
  },
  {
   "cell_type": "markdown",
   "metadata": {},
   "source": [
    "### Useful Hotkeys\n",
    "\n",
    "Typing code will be easy, if you’ve used any word processor. In addition to what you already know, a few basic typing practices I regularly use are:\n",
    "\n",
    "* Using ***'tab'*** instead of 4 spaces for indents (VScode does this automatically!)\n",
    "* ***'Ctrl + Arrows'*** to move from word to word\n",
    "* ***‘Ctrl + shift + Arrows’*** to select words\n",
    "* ***‘Ctrl + c’*** & ***‘ctrl + v’*** at the end of the line to copy and paste with selecting\n",
    "* Using your ***‘home’*** key to go to the beginning of a line, and ***‘end’*** to go to the end\n",
    "* Hilighting with ***‘ctrl + shift’*** before enclosing characters in parentheses or quotes\n",
    "* Autcomplete with ***'tab'***\n",
    "\n",
    "---"
   ]
  },
  {
   "cell_type": "markdown",
   "metadata": {},
   "source": [
    "## Interactive Python Notebooks\n",
    "\n",
    "In this course, we will be working mostly in ```.ipynb``` files instead of the ```.py``` files we’ve looked at so far. *Interactive Python Notebooks* are great because they allow us to run our code in chunks, and write markdown comments as notes! This format is prevalent in data science and machine learning, but is also just a great way to learn Python interactively. The notes you're reading right now are written in an .ipynb!\n",
    "\n",
    "Click the extension button on the left hand side of the window, and then search for ‘jupyter’. Click install on the first result - the one named ‘Jupyter’ that has the microsoft blue check.\n",
    "\n",
    "<img src=\"img\\16_jupyter_extension.png\" width=\"800\">\n"
   ]
  },
  {
   "cell_type": "markdown",
   "metadata": {},
   "source": [
    "Now go back to the explorer, and right click to create a new file. Make sure that you file extension is now ```.ipynb```. In the code editor, you will see a slightly different looking interface.\n",
    "\n",
    "<img src=\"img\\17_notebook_interface.png\" width=\"800\">"
   ]
  },
  {
   "cell_type": "markdown",
   "metadata": {},
   "source": [
    "### Python Cells\n",
    "\n",
    "A Python notebook is composed of ***cells***. Each cell contains either ***Markdown*** which is formatted written text (the notes), or Python code. The general interface for a cell is:\n",
    "\n",
    "<img src=\"img\\18_nb_cell.png\" width=\"800\">"
   ]
  },
  {
   "cell_type": "markdown",
   "metadata": {},
   "source": [
    "In the cell type the usual ```print('Hello World')```. When you hit ***'shift+enter'***, you will see the output from the expression right below the cell, as well as a stat telling you how long it took Python to computer the cell.\n",
    "\n",
    "<img src=\"img\\21_python_cell.png\" width=\"800\">\n",
    "\n",
    "This is how we will work in Python notebooks - incrementally so we can see the results of our code in little sections.\n",
    "\n",
    "***Note:*** if you had a pop-up prompting you to install the ***ipykernel package***, click ***install.***\n",
    "\n",
    "\n",
    "### A Note of Cell Run Order\n",
    "All cells in a notebook will run from top to bottom, if you click ***'run all'***. However, you can muddle the mixture a bit if you run a cell out of order. In the below instance, I run all cells to get the expected print out after cell 3. Look what happens when I re-reun cell 2 and then run cell 3. The variable in cell 1 is overidden. This is less intuitive to describe, but you'll get the hang of what I mean as you work through your code.\n",
    "\n",
    "<img src=\"img\\cell_order.gif\" width=\"800\">"
   ]
  },
  {
   "cell_type": "markdown",
   "metadata": {},
   "source": [
    "### Markdown Cells"
   ]
  },
  {
   "cell_type": "markdown",
   "metadata": {},
   "source": [
    "***Markdown*** is a markup language much like HTML. It is used to write and style text. You will use it to write notes between your Python code in Python notebooks.\n",
    "\n",
    "After running your first 'Hello World' cell, you will see a new Python cell appear below the current cell. You can click the ***'...'*** on the right hand side of the new cell, and use the menu to conver the cell to markdown. \n",
    "\n",
    "<img src=\"img\\22_switch_to_md.png\" width=\"800\">\n",
    "\n",
    "Alternately, you can simply type ```'m'``` on a cell you aren't currently editing to switch it to markdown mode. Hitting ```'y'``` will switch a cell to Python mode. If you are editing a cell and want to switch it to another mode, hit 'esc' before switching modes."
   ]
  },
  {
   "cell_type": "markdown",
   "metadata": {},
   "source": [
    "Markdown allows you to format your text. For example, this:\n",
    "\n",
    "<img src=\"img\\20_markdown_raw.png\" width=\"600\">\n",
    "\n",
    "renders to this:\n",
    "\n",
    "<img src=\"img\\20_markdown_render.png\" width=\"400\">"
   ]
  },
  {
   "cell_type": "markdown",
   "metadata": {},
   "source": [
    "Like a Python cell, you use the hotkey ***'shift + enter'*** to render the markdown.\n",
    "\n",
    "I won't go through markdown formatting in this course, but it's very easy to pickup!\n",
    "\n",
    "Here's a [cheatsheet to get you started.](https://sqlbak.com/blog/wp-content/uploads/2020/12/Jupyter-Notebook-Markdown-Cheatsheet2.pdf)\n"
   ]
  }
 ],
 "metadata": {
  "language_info": {
   "name": "python"
  }
 },
 "nbformat": 4,
 "nbformat_minor": 2
}
